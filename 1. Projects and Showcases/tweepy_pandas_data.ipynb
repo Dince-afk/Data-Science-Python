{
 "cells": [
  {
   "cell_type": "markdown",
   "source": [
    "# Get Twitter Data with Tweepy and Help from Pandas"
   ],
   "metadata": {
    "collapsed": false
   }
  },
  {
   "cell_type": "markdown",
   "source": [
    "## Libraries"
   ],
   "metadata": {
    "collapsed": false,
    "pycharm": {
     "name": "#%% md\n"
    }
   }
  },
  {
   "cell_type": "code",
   "execution_count": 217,
   "metadata": {
    "collapsed": true
   },
   "outputs": [],
   "source": [
    "import requests\n",
    "import tweepy\n",
    "import pandas as pd\n",
    "import json"
   ]
  },
  {
   "cell_type": "markdown",
   "source": [
    "## Authentication input"
   ],
   "metadata": {
    "collapsed": false
   }
  },
  {
   "cell_type": "markdown",
   "source": [
    "Enter your own bearer token."
   ],
   "metadata": {
    "collapsed": false
   }
  },
  {
   "cell_type": "code",
   "execution_count": 218,
   "outputs": [],
   "source": [
    "file = open(\"twitter_keys.json\", 'r')\n",
    "BEARER_TOKEN = json.load(file)[\"BEARER_TOKEN\"]"
   ],
   "metadata": {
    "collapsed": false,
    "pycharm": {
     "name": "#%%\n"
    }
   }
  },
  {
   "cell_type": "markdown",
   "source": [
    "## Client"
   ],
   "metadata": {
    "collapsed": false
   }
  },
  {
   "cell_type": "code",
   "execution_count": 220,
   "outputs": [],
   "source": [
    "client = tweepy.Client(\n",
    "    bearer_token=BEARER_TOKEN,\n",
    "    return_type = requests.Response # Needed to use json methods, which makes life much easier\n",
    ")"
   ],
   "metadata": {
    "collapsed": false,
    "pycharm": {
     "name": "#%%\n"
    }
   }
  },
  {
   "cell_type": "markdown",
   "source": [
    "## Get data with search_recent_tweets()\n",
    "Available for essential (most basic and free version) access. By default, returns:\n",
    "* only ten tweets (user `max_results` for more)\n",
    "* text and author_id (called id)\n",
    "* and max 7 days back"
   ],
   "metadata": {
    "collapsed": false
   }
  },
  {
   "cell_type": "code",
   "execution_count": 221,
   "outputs": [
    {
     "data": {
      "text/plain": "<Response [200]>"
     },
     "execution_count": 221,
     "metadata": {},
     "output_type": "execute_result"
    }
   ],
   "source": [
    "query = \"data science -is:retweet\"\n",
    "response = client.search_recent_tweets(query,\n",
    "                                       max_results=30,\n",
    "                                       tweet_fields=[\"created_at\",\"lang\",\"public_metrics\",\"geo\",\"source\",\"withheld\"],\n",
    "                                       expansions=[\"author_id\",\"geo.place_id\"] # This argument returns additional \"includes\" data compartment in response\n",
    "                                       )\n",
    "response"
   ],
   "metadata": {
    "collapsed": false,
    "pycharm": {
     "name": "#%%\n"
    }
   }
  },
  {
   "cell_type": "markdown",
   "source": [
    "## json"
   ],
   "metadata": {
    "collapsed": false
   }
  },
  {
   "cell_type": "code",
   "execution_count": 222,
   "outputs": [
    {
     "data": {
      "text/plain": "{'data': [{'id': '1531227544099635200',\n   'created_at': '2022-05-30T10:54:30.000Z',\n   'author_id': '1455547476941975554',\n   'lang': 'en',\n   'text': '📊#Datavisualization is one of the most powerful tools of #DataScience.\\n👉Checkout this article to read more on all the #Data visualizations in data science with their implementation using #Python.\\nhttps://t.co/rFSmCiD2QT',\n   'source': 'Twitter Web App',\n   'public_metrics': {'retweet_count': 0,\n    'reply_count': 0,\n    'like_count': 0,\n    'quote_count': 0}},\n  {'id': '1531227432409346048',\n   'created_at': '2022-05-30T10:54:03.000Z',\n   'author_id': '448002010',\n   'lang': 'en',\n   'text': 'Made to measure: why we can’t stop quantifying our lives | Science | The Guardian https://t.co/oAjTPoLCB0 https://t.co/5TSO9afLRV',\n   'source': 'Buffer',\n   'public_metrics': {'retweet_count': 0,\n    'reply_count': 0,\n    'like_count': 0,\n    'quote_count': 0}},\n  {'id': '1531227347227377664',\n   'created_at': '2022-05-30T10:53:43.000Z',\n   'author_id': '1249991751994990592',\n   'lang': 'en',\n   'text': 'Companies in Data Science domains require Relevant Experience! \\nDeep dive into Data Science and work directly with companies to gain real work experience from one of the fastest-growing Data Science learning platforms out there.\\n\\nFollow @skillslash to know more\\n\\n#skillslash https://t.co/XD9oYZw8QT',\n   'source': 'Twitter Web App',\n   'public_metrics': {'retweet_count': 1,\n    'reply_count': 0,\n    'like_count': 0,\n    'quote_count': 0}},\n  {'id': '1531227142666829824',\n   'created_at': '2022-05-30T10:52:54.000Z',\n   'author_id': '1517642926427451395',\n   'lang': 'en',\n   'text': 'print (\"HELLO, WORLD!\")\\nNOTAR Research &amp; Analytics is a comprehensive research company that combines social science and natural science methodologies. We provide our clients efficient data solutions and reliable social researches to build insights on solid ground. https://t.co/OmUdZ0xuf0',\n   'source': 'Twitter Web App',\n   'public_metrics': {'retweet_count': 0,\n    'reply_count': 0,\n    'like_count': 0,\n    'quote_count': 0}},\n  {'id': '1531226962773032960',\n   'created_at': '2022-05-30T10:52:11.000Z',\n   'author_id': '704627962314891264',\n   'lang': 'en',\n   'text': '3 Reasons Why Teamwork is an Essential Skill in Data Science #BigData  https://t.co/Hel4T07gQD',\n   'source': 'TwinyBots',\n   'public_metrics': {'retweet_count': 1,\n    'reply_count': 0,\n    'like_count': 0,\n    'quote_count': 0}},\n  {'id': '1531226768627183617',\n   'created_at': '2022-05-30T10:51:25.000Z',\n   'author_id': '2374479512',\n   'lang': 'en',\n   'text': 'Track A: Digital Display Spaces\\nTrack B: Data Science.\\nTrack C:  3D Data, Modeling, and Rendering.\\nTrack D: Computer Vision, Machine Learning, AI.\\nTrack E: Natural Language Processing (NLP) https://t.co/upjXpgNOCc',\n   'source': 'Twitter Web App',\n   'public_metrics': {'retweet_count': 0,\n    'reply_count': 1,\n    'like_count': 0,\n    'quote_count': 0}},\n  {'id': '1531226673932279808',\n   'created_at': '2022-05-30T10:51:02.000Z',\n   'author_id': '14847675',\n   'lang': 'en',\n   'text': 'Design Thinking Humanizes #datascience\\nThe #infographic above is very cool and depicts a very interesting proposition. I love it. Howeve ..\\nhttps://t.co/w8HVsywQLS\\n\\n#7wData\\n#dwh',\n   'source': 'Twitter Web App',\n   'public_metrics': {'retweet_count': 1,\n    'reply_count': 0,\n    'like_count': 0,\n    'quote_count': 0}},\n  {'id': '1531226615723839488',\n   'created_at': '2022-05-30T10:50:48.000Z',\n   'author_id': '1478462793435205632',\n   'lang': 'en',\n   'text': \"Monkeypox horror as outbreak 'differs by about 40 mutations' from last virus sequence #SmartNews  WOW THIS IS SCARY ✝️🙏😢😢😢. PLAGUES AND PESTILENCE ✝️🙏 https://t.co/8cPiq1jfz0\",\n   'source': 'Twitter for iPhone',\n   'public_metrics': {'retweet_count': 0,\n    'reply_count': 0,\n    'like_count': 0,\n    'quote_count': 0}},\n  {'id': '1531226606768902144',\n   'created_at': '2022-05-30T10:50:46.000Z',\n   'author_id': '411753065',\n   'lang': 'en',\n   'text': '#PhDpositions AIMS-Rwanda .@NextEinsteinFor\\n One of them is in partnership with  @brain_more\\n\"#EEG data curly black hair and #federatedlearning in #Africa\". Work officially in #Rwanda and us in Poland https://t.co/GMrwTayKGK .@BlackInNeuro .@SoBlackNeuro https://t.co/6FuDVomALO',\n   'source': 'Twitter Web App',\n   'public_metrics': {'retweet_count': 1,\n    'reply_count': 0,\n    'like_count': 1,\n    'quote_count': 0}},\n  {'id': '1531226462959079424',\n   'created_at': '2022-05-30T10:50:12.000Z',\n   'author_id': '1526449163126607872',\n   'lang': 'en',\n   'text': 'Data science is an emerging discipline. It arose from the fields of statistics and data mining. The Data Science Journal was initially published in 2002 by the International Council for Science: Committee on Data for Science and Technology. \\nSource : https://t.co/2uV2htTeit',\n   'source': 'Twitter Web App',\n   'public_metrics': {'retweet_count': 0,\n    'reply_count': 0,\n    'like_count': 0,\n    'quote_count': 0}},\n  {'id': '1531226430016716802',\n   'created_at': '2022-05-30T10:50:04.000Z',\n   'author_id': '615205006',\n   'lang': 'en',\n   'text': 'It’s Time To Stop Wondering if Animals Are Sentient—They Are\\nWe don’t need any more data to acknowledge that many nonhuman animals are sentient beings. Abundant science shows the real question is not whether sentience has evolved, but why.\\n\\nhttps://t.co/cojWrMbNnI',\n   'source': 'Twitter Web App',\n   'public_metrics': {'retweet_count': 1,\n    'reply_count': 0,\n    'like_count': 1,\n    'quote_count': 0}},\n  {'id': '1531226309082370049',\n   'created_at': '2022-05-30T10:49:35.000Z',\n   'author_id': '15278704',\n   'lang': 'es',\n   'text': '¡Abierta la inscripción! Un nuevo curso que imparto sobre introducción a Data Science de forma visual e intuitiva (junio-julio 2022):  https://t.co/232FqNkHkY https://t.co/cDkq13lLSK',\n   'source': 'Twitter Web App',\n   'public_metrics': {'retweet_count': 0,\n    'reply_count': 0,\n    'like_count': 0,\n    'quote_count': 0}},\n  {'id': '1531225926947819522',\n   'created_at': '2022-05-30T10:48:04.000Z',\n   'author_id': '15807849',\n   'lang': 'en',\n   'text': '@haylopez25 It is such a shame that struggling #LongCovid #POTS patients have to put up with reactions from a minority using selective data to make a case.  Science must prevail.',\n   'source': 'Twitter Web App',\n   'public_metrics': {'retweet_count': 0,\n    'reply_count': 0,\n    'like_count': 0,\n    'quote_count': 0}},\n  {'id': '1531225522323312640',\n   'created_at': '2022-05-30T10:46:27.000Z',\n   'author_id': '2716028982',\n   'lang': 'en',\n   'text': 'Russian troops entering Sievierodonetsk in eastern Ukraine https://t.co/dm40K7Ot09 #3Novices #Meghashyam Thiruveedula #Data Science #Machine Learning',\n   'source': 'IFTTT',\n   'public_metrics': {'retweet_count': 0,\n    'reply_count': 0,\n    'like_count': 0,\n    'quote_count': 0}},\n  {'id': '1531225512382763010',\n   'created_at': '2022-05-30T10:46:25.000Z',\n   'author_id': '196590875',\n   'lang': 'tr',\n   'text': \"Şu @Twitter'da sırf ekonomi, data science, cliometrics paylaşımları yapayım, kimseye bulaşmayım diyorum her defasında mutlaka kendimi tutamadığım bir saçmalığa denk geliyorum.\\n\\nGerçekten ya Dünya giderek niteliksizleşiyor ya da ben yeni fark ediyorum... https://t.co/is9rhPBaM9\",\n   'source': 'Twitter Web App',\n   'public_metrics': {'retweet_count': 0,\n    'reply_count': 1,\n    'like_count': 0,\n    'quote_count': 0}},\n  {'id': '1531225169733238787',\n   'created_at': '2022-05-30T10:45:03.000Z',\n   'author_id': '37715152',\n   'lang': 'en',\n   'text': '@mchris4duke loved your UKSG talk Chris! I wonder how you and colleagues are helping researchers with the upcoming NIH data sharing mandate and how you’ll leverage it to promote open science further',\n   'source': 'Twitter for iPad',\n   'public_metrics': {'retweet_count': 0,\n    'reply_count': 0,\n    'like_count': 0,\n    'quote_count': 0}},\n  {'id': '1531225014661414912',\n   'created_at': '2022-05-30T10:44:26.000Z',\n   'author_id': '1371872661089837059',\n   'lang': 'en',\n   'text': \"🎊 A wonderful keynote by Erin McLaughlin of @TD_Canada on her career in software engineering and data science. If you're looking for opportunities with her team, go to https://t.co/GYAQg54jhp. Full keynote on our youtube.📌\\n\\n#womenintech #td #tdlife #dnievents #privaterecruiting https://t.co/NRvky966op\",\n   'source': 'Twitter Web App',\n   'public_metrics': {'retweet_count': 1,\n    'reply_count': 0,\n    'like_count': 2,\n    'quote_count': 0}},\n  {'id': '1531224940078370817',\n   'created_at': '2022-05-30T10:44:09.000Z',\n   'author_id': '1318909592668168192',\n   'lang': 'en',\n   'text': 'The evidence from #decodexpo study revealed the dose response relationship  with narrow BMDI for  Cd and testosterone, Hg and LH pairs. The study revealed that BMD approach can be significant in the analysis of human data @EFSA_EU @fondzanauku_rs\\n\\nhttps://t.co/dQsbw8s71U',\n   'source': 'Twitter for Android',\n   'public_metrics': {'retweet_count': 0,\n    'reply_count': 0,\n    'like_count': 0,\n    'quote_count': 1}},\n  {'id': '1531224774923456513',\n   'created_at': '2022-05-30T10:43:29.000Z',\n   'author_id': '609464258',\n   'lang': 'en',\n   'text': '#Microplastics added to stream mesocosms reduced numbers of deposit-feeders and grazers by 31-50% at the highest concentrations while individual inverts contained 115-415 particles per individual - much higher than field data. But no effects of function\\nhttps://t.co/LEbfB5T76Y',\n   'source': 'Twitter Web App',\n   'public_metrics': {'retweet_count': 2,\n    'reply_count': 0,\n    'like_count': 2,\n    'quote_count': 0}},\n  {'id': '1531224664260984832',\n   'created_at': '2022-05-30T10:43:03.000Z',\n   'author_id': '1522691510264897537',\n   'lang': 'en',\n   'text': '@MashwaniAzhar GET THE YOUTH REGISTERED FOR VOTE. June 19 is deadline.\\n\\nSTART A CAMPAIGN TO INCREASE 18-25 VOTER TURN OUT. Election is a science, for Godsakes treat it as one. Trump turned the tables doing just that. Analyzing data tor targeted campaign and increasing suburban turnout.\\n\\nPLEASE!',\n   'source': 'Twitter for iPhone',\n   'public_metrics': {'retweet_count': 0,\n    'reply_count': 1,\n    'like_count': 0,\n    'quote_count': 0}},\n  {'id': '1531224602348818437',\n   'created_at': '2022-05-30T10:42:48.000Z',\n   'author_id': '331486721',\n   'lang': 'en',\n   'text': '#H3Africa@Abuja\\nAttending Single Cell Sequencing data analysis. Interesting sessions with engaging the community. \\n\\n#Data_visualization \\n#Data_Science \\n#capacity_Building\\n#Community_engagement https://t.co/8qcNHmfGdW',\n   'source': 'Twitter for Android',\n   'public_metrics': {'retweet_count': 0,\n    'reply_count': 0,\n    'like_count': 0,\n    'quote_count': 0}},\n  {'id': '1531224466260467712',\n   'created_at': '2022-05-30T10:42:16.000Z',\n   'author_id': '1094022475736903687',\n   'lang': 'en',\n   'text': 'Learn Data Science from DataCamp\\nPay 59$ on an annual subscription \\nEnroll from here: https://t.co/MOd54jQZ6B \\nWatch the review: Statistician with R \\nhttps://t.co/KklGZeV6qa\\n#ml #research #data #DataScience #MachineLearning  #Rstats #Statistics #100DaysOfCode',\n   'source': 'Twitter Web App',\n   'public_metrics': {'retweet_count': 5,\n    'reply_count': 0,\n    'like_count': 3,\n    'quote_count': 0}},\n  {'id': '1531224338430627841',\n   'created_at': '2022-05-30T10:41:45.000Z',\n   'author_id': '373554143',\n   'lang': 'en',\n   'text': '@Jerusalem_Post Garbage study with bad data that defies science. A vax is the virus in a non replicating form that triggers a natural immune response. To say the immune response which is more robust from natural exposure in kids defies how a vax works. It’s embarrassing published this this!',\n   'source': 'Twitter for iPhone',\n   'public_metrics': {'retweet_count': 0,\n    'reply_count': 0,\n    'like_count': 1,\n    'quote_count': 0}},\n  {'id': '1531224278196277251',\n   'created_at': '2022-05-30T10:41:31.000Z',\n   'author_id': '1094022475736903687',\n   'lang': 'en',\n   'text': 'Learn Data Science from DataCamp\\nPay 59$ on an annual subscription \\nEnroll from here:https://t.co/MOd54jQZ6B \\nWatch the review: Deep Learning with Python\\nhttps://t.co/jJFEXKxjhn\\n#ml #research #data #DataScience #MachineLearning  #Rstats #100DaysOfCode',\n   'source': 'Twitter Web App',\n   'public_metrics': {'retweet_count': 2,\n    'reply_count': 0,\n    'like_count': 1,\n    'quote_count': 0}},\n  {'id': '1531224260970172416',\n   'created_at': '2022-05-30T10:41:27.000Z',\n   'author_id': '35002743',\n   'lang': 'en',\n   'text': \"The most common myths I have experienced in the #datascience world\\n\\n1. Kaggle, hackathon, and real-world business problems are the same\\n\\n2. You need to have a Ph.D. degree/master's degree to become a #datascientist\\n\\n3. You need to have a\\xa0data science\\xa0c…https://t.co/S6Yt1DKATe\",\n   'source': 'LinkedIn',\n   'public_metrics': {'retweet_count': 0,\n    'reply_count': 0,\n    'like_count': 1,\n    'quote_count': 0}},\n  {'id': '1531224171304337408',\n   'created_at': '2022-05-30T10:41:05.000Z',\n   'author_id': '1522691510264897537',\n   'lang': 'en',\n   'text': '@samiabrahim GET THE YOUTH REGISTERED FOR VOTE. June 19 is deadline.\\n\\nSTART A CAMPAIGN TO INCREASE 18-25 VOTER TURN OUT. Election is a science, for Godsakes treat it as one. Trump turned the tables doing just that. Analyzing data tor targeted campaign and increasing suburban turnout.\\n\\nPLEASE!',\n   'source': 'Twitter for iPhone',\n   'public_metrics': {'retweet_count': 0,\n    'reply_count': 0,\n    'like_count': 0,\n    'quote_count': 0}},\n  {'id': '1531224141369679873',\n   'created_at': '2022-05-30T10:40:58.000Z',\n   'author_id': '1094022475736903687',\n   'lang': 'en',\n   'text': 'Learn Data Science from DataCamp\\nPay 59$ on an annual subscription \\nEnroll from here: https://t.co/MOd54jQZ6B\\nWatch the review: Data Analyst with Python\\nhttps://t.co/FBHKCCrdV9\\n#ml #research #data #DataScience #MachineLearning  #Rstats #100DaysOfCode',\n   'source': 'Twitter Web App',\n   'public_metrics': {'retweet_count': 3,\n    'reply_count': 0,\n    'like_count': 1,\n    'quote_count': 0}},\n  {'id': '1531224125947133954',\n   'created_at': '2022-05-30T10:40:55.000Z',\n   'author_id': '1522691510264897537',\n   'lang': 'en',\n   'text': '@ImranKhanPTI GET THE YOUTH REGISTERED FOR VOTE. June 19 is deadline.\\n\\nSTART A CAMPAIGN TO INCREASE 18-25 VOTER TURN OUT. Election is a science, for Godsakes treat it as one. Trump turned the tables doing just that. Analyzing data tor targeted campaign and increasing suburban turnout.\\n\\nPLEASE!',\n   'source': 'Twitter for iPhone',\n   'public_metrics': {'retweet_count': 0,\n    'reply_count': 0,\n    'like_count': 0,\n    'quote_count': 0}},\n  {'id': '1531224091650408448',\n   'created_at': '2022-05-30T10:40:46.000Z',\n   'author_id': '1248203618018344961',\n   'lang': 'en',\n   'text': '🗓️Tuesday :\\nMicroeconometrics Seminar:\\nMartin HUBER (Fribourg) \\n“Testing the identification of causal effects in data”\\nMay 31 ⏰ 12:15 pm - 1:30 pm\\n👉https://t.co/N2B6RCoO1L https://t.co/wYPexz7JUc',\n   'source': 'Twitter Web App',\n   'public_metrics': {'retweet_count': 0,\n    'reply_count': 0,\n    'like_count': 0,\n    'quote_count': 0}},\n  {'id': '1531224040563671041',\n   'created_at': '2022-05-30T10:40:34.000Z',\n   'author_id': '1094022475736903687',\n   'lang': 'en',\n   'text': 'Learn Data Science from DataCamp\\nPay 59$ on an annual subscription \\nEnroll from here:https://t.co/MOd54jQZ6B \\nWatch the review: Data Analyst with R \\nhttps://t.co/lXuguGsF0A\\n#ml #research #data #DataScience #MachineLearning  #Rstats #100DaysOfCode',\n   'source': 'Twitter Web App',\n   'public_metrics': {'retweet_count': 2,\n    'reply_count': 0,\n    'like_count': 2,\n    'quote_count': 0}}],\n 'includes': {'users': [{'id': '1455547476941975554',\n    'name': 'Cosmos Thrace',\n    'username': 'CosmosThrace'},\n   {'id': '448002010',\n    'name': 'Continuum Health',\n    'username': 'ContinuumPharma'},\n   {'id': '1249991751994990592',\n    'name': 'Skillslash',\n    'username': 'skillslash'},\n   {'id': '1517642926427451395',\n    'name': 'NOTAR',\n    'username': 'NotarAnalytics'},\n   {'id': '704627962314891264', 'name': 'Necio', 'username': 'Necio_news'},\n   {'id': '2374479512', 'name': 'iArtHis_Lab', 'username': 'iArtHislab'},\n   {'id': '14847675', 'name': 'Yves Mulkers', 'username': 'YvesMulkers'},\n   {'id': '1478462793435205632',\n    'name': 'KENNETH',\n    'username': 'KENNETH36674712'},\n   {'id': '411753065',\n    'name': 'Alessandro Crimi 🧠🧬🔬🩺🧪',\n    'username': 'Dr_Alex_Crimi'},\n   {'id': '1526449163126607872',\n    'name': 'darsh bhatt',\n    'username': 'darshbhatt11'},\n   {'id': '615205006', 'name': 'Marc Bekoff', 'username': 'MarcBekoff'},\n   {'id': '15278704',\n    'name': 'Prof. Dr. Gualberto Asencio Cortés',\n    'username': 'gualberto'},\n   {'id': '15807849', 'name': 'Van Morris', 'username': 'vanmorris'},\n   {'id': '2716028982', 'name': '3novices', 'username': '3novices'},\n   {'id': '196590875',\n    'name': 'Emre Akanak - אמרה ישראל אקאנאק',\n    'username': 'EmreAkanak'},\n   {'id': '37715152', 'name': 'Liam Bullingham', 'username': 'liamealbee'},\n   {'id': '1371872661089837059',\n    'name': 'DNI.events',\n    'username': 'dnirecruiting'},\n   {'id': '1318909592668168192', 'name': 'DecodExpo', 'username': 'DecodExpo'},\n   {'id': '609464258', 'name': 'Steve Ormerod 💙', 'username': 'SteveOrmerod'},\n   {'id': '1522691510264897537',\n    'name': 'Psychedelic',\n    'username': 'doc_Psychedelic'},\n   {'id': '331486721', 'name': 'ISHReCA', 'username': 'ISHReCA'},\n   {'id': '1094022475736903687', 'name': 'Themis277', 'username': 'themis277'},\n   {'id': '373554143',\n    'name': 'Numbercruncher2012🇺🇸🇮🇱',\n    'username': 'Numbercruncher3'},\n   {'id': '35002743', 'name': 'Mohammad Arshad', 'username': 'arshad83'},\n   {'id': '1248203618018344961',\n    'name': 'CREST (UMR 9194)',\n    'username': 'CrestUmr'}]},\n 'meta': {'newest_id': '1531227544099635200',\n  'oldest_id': '1531224040563671041',\n  'result_count': 30,\n  'next_token': 'b26v89c19zqg8o3fpyzkzk8686w7int3ibmyz4g0jy1z1'}}"
     },
     "execution_count": 222,
     "metadata": {},
     "output_type": "execute_result"
    }
   ],
   "source": [
    "response = response.json()\n",
    "response"
   ],
   "metadata": {
    "collapsed": false,
    "pycharm": {
     "name": "#%%\n"
    }
   }
  },
  {
   "cell_type": "markdown",
   "source": [
    "## The split data issue"
   ],
   "metadata": {
    "collapsed": false
   }
  },
  {
   "cell_type": "markdown",
   "source": [
    "The API call returns the tweet data under two keys, \"data\" and \"includes\" (as well as meta data under the \"meta\" key). \"data\" has data on the tweets per se (text, language, date created), while \"includes\" has data on the user (name, username).\n",
    "\n",
    "This means, that if we want to create one single dataframe, we have to create tweet_data and author_data first, and then merge them on their \"author_id\" column secondly."
   ],
   "metadata": {
    "collapsed": false
   }
  },
  {
   "cell_type": "markdown",
   "source": [
    "### Tweet data"
   ],
   "metadata": {
    "collapsed": false
   }
  },
  {
   "cell_type": "code",
   "execution_count": 223,
   "outputs": [
    {
     "data": {
      "text/plain": "[{'id': '1531227544099635200',\n  'created_at': '2022-05-30T10:54:30.000Z',\n  'author_id': '1455547476941975554',\n  'lang': 'en',\n  'text': '📊#Datavisualization is one of the most powerful tools of #DataScience.\\n👉Checkout this article to read more on all the #Data visualizations in data science with their implementation using #Python.\\nhttps://t.co/rFSmCiD2QT',\n  'source': 'Twitter Web App',\n  'public_metrics': {'retweet_count': 0,\n   'reply_count': 0,\n   'like_count': 0,\n   'quote_count': 0}},\n {'id': '1531227432409346048',\n  'created_at': '2022-05-30T10:54:03.000Z',\n  'author_id': '448002010',\n  'lang': 'en',\n  'text': 'Made to measure: why we can’t stop quantifying our lives | Science | The Guardian https://t.co/oAjTPoLCB0 https://t.co/5TSO9afLRV',\n  'source': 'Buffer',\n  'public_metrics': {'retweet_count': 0,\n   'reply_count': 0,\n   'like_count': 0,\n   'quote_count': 0}},\n {'id': '1531227347227377664',\n  'created_at': '2022-05-30T10:53:43.000Z',\n  'author_id': '1249991751994990592',\n  'lang': 'en',\n  'text': 'Companies in Data Science domains require Relevant Experience! \\nDeep dive into Data Science and work directly with companies to gain real work experience from one of the fastest-growing Data Science learning platforms out there.\\n\\nFollow @skillslash to know more\\n\\n#skillslash https://t.co/XD9oYZw8QT',\n  'source': 'Twitter Web App',\n  'public_metrics': {'retweet_count': 1,\n   'reply_count': 0,\n   'like_count': 0,\n   'quote_count': 0}},\n {'id': '1531227142666829824',\n  'created_at': '2022-05-30T10:52:54.000Z',\n  'author_id': '1517642926427451395',\n  'lang': 'en',\n  'text': 'print (\"HELLO, WORLD!\")\\nNOTAR Research &amp; Analytics is a comprehensive research company that combines social science and natural science methodologies. We provide our clients efficient data solutions and reliable social researches to build insights on solid ground. https://t.co/OmUdZ0xuf0',\n  'source': 'Twitter Web App',\n  'public_metrics': {'retweet_count': 0,\n   'reply_count': 0,\n   'like_count': 0,\n   'quote_count': 0}},\n {'id': '1531226962773032960',\n  'created_at': '2022-05-30T10:52:11.000Z',\n  'author_id': '704627962314891264',\n  'lang': 'en',\n  'text': '3 Reasons Why Teamwork is an Essential Skill in Data Science #BigData  https://t.co/Hel4T07gQD',\n  'source': 'TwinyBots',\n  'public_metrics': {'retweet_count': 1,\n   'reply_count': 0,\n   'like_count': 0,\n   'quote_count': 0}},\n {'id': '1531226768627183617',\n  'created_at': '2022-05-30T10:51:25.000Z',\n  'author_id': '2374479512',\n  'lang': 'en',\n  'text': 'Track A: Digital Display Spaces\\nTrack B: Data Science.\\nTrack C:  3D Data, Modeling, and Rendering.\\nTrack D: Computer Vision, Machine Learning, AI.\\nTrack E: Natural Language Processing (NLP) https://t.co/upjXpgNOCc',\n  'source': 'Twitter Web App',\n  'public_metrics': {'retweet_count': 0,\n   'reply_count': 1,\n   'like_count': 0,\n   'quote_count': 0}},\n {'id': '1531226673932279808',\n  'created_at': '2022-05-30T10:51:02.000Z',\n  'author_id': '14847675',\n  'lang': 'en',\n  'text': 'Design Thinking Humanizes #datascience\\nThe #infographic above is very cool and depicts a very interesting proposition. I love it. Howeve ..\\nhttps://t.co/w8HVsywQLS\\n\\n#7wData\\n#dwh',\n  'source': 'Twitter Web App',\n  'public_metrics': {'retweet_count': 1,\n   'reply_count': 0,\n   'like_count': 0,\n   'quote_count': 0}},\n {'id': '1531226615723839488',\n  'created_at': '2022-05-30T10:50:48.000Z',\n  'author_id': '1478462793435205632',\n  'lang': 'en',\n  'text': \"Monkeypox horror as outbreak 'differs by about 40 mutations' from last virus sequence #SmartNews  WOW THIS IS SCARY ✝️🙏😢😢😢. PLAGUES AND PESTILENCE ✝️🙏 https://t.co/8cPiq1jfz0\",\n  'source': 'Twitter for iPhone',\n  'public_metrics': {'retweet_count': 0,\n   'reply_count': 0,\n   'like_count': 0,\n   'quote_count': 0}},\n {'id': '1531226606768902144',\n  'created_at': '2022-05-30T10:50:46.000Z',\n  'author_id': '411753065',\n  'lang': 'en',\n  'text': '#PhDpositions AIMS-Rwanda .@NextEinsteinFor\\n One of them is in partnership with  @brain_more\\n\"#EEG data curly black hair and #federatedlearning in #Africa\". Work officially in #Rwanda and us in Poland https://t.co/GMrwTayKGK .@BlackInNeuro .@SoBlackNeuro https://t.co/6FuDVomALO',\n  'source': 'Twitter Web App',\n  'public_metrics': {'retweet_count': 1,\n   'reply_count': 0,\n   'like_count': 1,\n   'quote_count': 0}},\n {'id': '1531226462959079424',\n  'created_at': '2022-05-30T10:50:12.000Z',\n  'author_id': '1526449163126607872',\n  'lang': 'en',\n  'text': 'Data science is an emerging discipline. It arose from the fields of statistics and data mining. The Data Science Journal was initially published in 2002 by the International Council for Science: Committee on Data for Science and Technology. \\nSource : https://t.co/2uV2htTeit',\n  'source': 'Twitter Web App',\n  'public_metrics': {'retweet_count': 0,\n   'reply_count': 0,\n   'like_count': 0,\n   'quote_count': 0}},\n {'id': '1531226430016716802',\n  'created_at': '2022-05-30T10:50:04.000Z',\n  'author_id': '615205006',\n  'lang': 'en',\n  'text': 'It’s Time To Stop Wondering if Animals Are Sentient—They Are\\nWe don’t need any more data to acknowledge that many nonhuman animals are sentient beings. Abundant science shows the real question is not whether sentience has evolved, but why.\\n\\nhttps://t.co/cojWrMbNnI',\n  'source': 'Twitter Web App',\n  'public_metrics': {'retweet_count': 1,\n   'reply_count': 0,\n   'like_count': 1,\n   'quote_count': 0}},\n {'id': '1531226309082370049',\n  'created_at': '2022-05-30T10:49:35.000Z',\n  'author_id': '15278704',\n  'lang': 'es',\n  'text': '¡Abierta la inscripción! Un nuevo curso que imparto sobre introducción a Data Science de forma visual e intuitiva (junio-julio 2022):  https://t.co/232FqNkHkY https://t.co/cDkq13lLSK',\n  'source': 'Twitter Web App',\n  'public_metrics': {'retweet_count': 0,\n   'reply_count': 0,\n   'like_count': 0,\n   'quote_count': 0}},\n {'id': '1531225926947819522',\n  'created_at': '2022-05-30T10:48:04.000Z',\n  'author_id': '15807849',\n  'lang': 'en',\n  'text': '@haylopez25 It is such a shame that struggling #LongCovid #POTS patients have to put up with reactions from a minority using selective data to make a case.  Science must prevail.',\n  'source': 'Twitter Web App',\n  'public_metrics': {'retweet_count': 0,\n   'reply_count': 0,\n   'like_count': 0,\n   'quote_count': 0}},\n {'id': '1531225522323312640',\n  'created_at': '2022-05-30T10:46:27.000Z',\n  'author_id': '2716028982',\n  'lang': 'en',\n  'text': 'Russian troops entering Sievierodonetsk in eastern Ukraine https://t.co/dm40K7Ot09 #3Novices #Meghashyam Thiruveedula #Data Science #Machine Learning',\n  'source': 'IFTTT',\n  'public_metrics': {'retweet_count': 0,\n   'reply_count': 0,\n   'like_count': 0,\n   'quote_count': 0}},\n {'id': '1531225512382763010',\n  'created_at': '2022-05-30T10:46:25.000Z',\n  'author_id': '196590875',\n  'lang': 'tr',\n  'text': \"Şu @Twitter'da sırf ekonomi, data science, cliometrics paylaşımları yapayım, kimseye bulaşmayım diyorum her defasında mutlaka kendimi tutamadığım bir saçmalığa denk geliyorum.\\n\\nGerçekten ya Dünya giderek niteliksizleşiyor ya da ben yeni fark ediyorum... https://t.co/is9rhPBaM9\",\n  'source': 'Twitter Web App',\n  'public_metrics': {'retweet_count': 0,\n   'reply_count': 1,\n   'like_count': 0,\n   'quote_count': 0}},\n {'id': '1531225169733238787',\n  'created_at': '2022-05-30T10:45:03.000Z',\n  'author_id': '37715152',\n  'lang': 'en',\n  'text': '@mchris4duke loved your UKSG talk Chris! I wonder how you and colleagues are helping researchers with the upcoming NIH data sharing mandate and how you’ll leverage it to promote open science further',\n  'source': 'Twitter for iPad',\n  'public_metrics': {'retweet_count': 0,\n   'reply_count': 0,\n   'like_count': 0,\n   'quote_count': 0}},\n {'id': '1531225014661414912',\n  'created_at': '2022-05-30T10:44:26.000Z',\n  'author_id': '1371872661089837059',\n  'lang': 'en',\n  'text': \"🎊 A wonderful keynote by Erin McLaughlin of @TD_Canada on her career in software engineering and data science. If you're looking for opportunities with her team, go to https://t.co/GYAQg54jhp. Full keynote on our youtube.📌\\n\\n#womenintech #td #tdlife #dnievents #privaterecruiting https://t.co/NRvky966op\",\n  'source': 'Twitter Web App',\n  'public_metrics': {'retweet_count': 1,\n   'reply_count': 0,\n   'like_count': 2,\n   'quote_count': 0}},\n {'id': '1531224940078370817',\n  'created_at': '2022-05-30T10:44:09.000Z',\n  'author_id': '1318909592668168192',\n  'lang': 'en',\n  'text': 'The evidence from #decodexpo study revealed the dose response relationship  with narrow BMDI for  Cd and testosterone, Hg and LH pairs. The study revealed that BMD approach can be significant in the analysis of human data @EFSA_EU @fondzanauku_rs\\n\\nhttps://t.co/dQsbw8s71U',\n  'source': 'Twitter for Android',\n  'public_metrics': {'retweet_count': 0,\n   'reply_count': 0,\n   'like_count': 0,\n   'quote_count': 1}},\n {'id': '1531224774923456513',\n  'created_at': '2022-05-30T10:43:29.000Z',\n  'author_id': '609464258',\n  'lang': 'en',\n  'text': '#Microplastics added to stream mesocosms reduced numbers of deposit-feeders and grazers by 31-50% at the highest concentrations while individual inverts contained 115-415 particles per individual - much higher than field data. But no effects of function\\nhttps://t.co/LEbfB5T76Y',\n  'source': 'Twitter Web App',\n  'public_metrics': {'retweet_count': 2,\n   'reply_count': 0,\n   'like_count': 2,\n   'quote_count': 0}},\n {'id': '1531224664260984832',\n  'created_at': '2022-05-30T10:43:03.000Z',\n  'author_id': '1522691510264897537',\n  'lang': 'en',\n  'text': '@MashwaniAzhar GET THE YOUTH REGISTERED FOR VOTE. June 19 is deadline.\\n\\nSTART A CAMPAIGN TO INCREASE 18-25 VOTER TURN OUT. Election is a science, for Godsakes treat it as one. Trump turned the tables doing just that. Analyzing data tor targeted campaign and increasing suburban turnout.\\n\\nPLEASE!',\n  'source': 'Twitter for iPhone',\n  'public_metrics': {'retweet_count': 0,\n   'reply_count': 1,\n   'like_count': 0,\n   'quote_count': 0}},\n {'id': '1531224602348818437',\n  'created_at': '2022-05-30T10:42:48.000Z',\n  'author_id': '331486721',\n  'lang': 'en',\n  'text': '#H3Africa@Abuja\\nAttending Single Cell Sequencing data analysis. Interesting sessions with engaging the community. \\n\\n#Data_visualization \\n#Data_Science \\n#capacity_Building\\n#Community_engagement https://t.co/8qcNHmfGdW',\n  'source': 'Twitter for Android',\n  'public_metrics': {'retweet_count': 0,\n   'reply_count': 0,\n   'like_count': 0,\n   'quote_count': 0}},\n {'id': '1531224466260467712',\n  'created_at': '2022-05-30T10:42:16.000Z',\n  'author_id': '1094022475736903687',\n  'lang': 'en',\n  'text': 'Learn Data Science from DataCamp\\nPay 59$ on an annual subscription \\nEnroll from here: https://t.co/MOd54jQZ6B \\nWatch the review: Statistician with R \\nhttps://t.co/KklGZeV6qa\\n#ml #research #data #DataScience #MachineLearning  #Rstats #Statistics #100DaysOfCode',\n  'source': 'Twitter Web App',\n  'public_metrics': {'retweet_count': 5,\n   'reply_count': 0,\n   'like_count': 3,\n   'quote_count': 0}},\n {'id': '1531224338430627841',\n  'created_at': '2022-05-30T10:41:45.000Z',\n  'author_id': '373554143',\n  'lang': 'en',\n  'text': '@Jerusalem_Post Garbage study with bad data that defies science. A vax is the virus in a non replicating form that triggers a natural immune response. To say the immune response which is more robust from natural exposure in kids defies how a vax works. It’s embarrassing published this this!',\n  'source': 'Twitter for iPhone',\n  'public_metrics': {'retweet_count': 0,\n   'reply_count': 0,\n   'like_count': 1,\n   'quote_count': 0}},\n {'id': '1531224278196277251',\n  'created_at': '2022-05-30T10:41:31.000Z',\n  'author_id': '1094022475736903687',\n  'lang': 'en',\n  'text': 'Learn Data Science from DataCamp\\nPay 59$ on an annual subscription \\nEnroll from here:https://t.co/MOd54jQZ6B \\nWatch the review: Deep Learning with Python\\nhttps://t.co/jJFEXKxjhn\\n#ml #research #data #DataScience #MachineLearning  #Rstats #100DaysOfCode',\n  'source': 'Twitter Web App',\n  'public_metrics': {'retweet_count': 2,\n   'reply_count': 0,\n   'like_count': 1,\n   'quote_count': 0}},\n {'id': '1531224260970172416',\n  'created_at': '2022-05-30T10:41:27.000Z',\n  'author_id': '35002743',\n  'lang': 'en',\n  'text': \"The most common myths I have experienced in the #datascience world\\n\\n1. Kaggle, hackathon, and real-world business problems are the same\\n\\n2. You need to have a Ph.D. degree/master's degree to become a #datascientist\\n\\n3. You need to have a\\xa0data science\\xa0c…https://t.co/S6Yt1DKATe\",\n  'source': 'LinkedIn',\n  'public_metrics': {'retweet_count': 0,\n   'reply_count': 0,\n   'like_count': 1,\n   'quote_count': 0}},\n {'id': '1531224171304337408',\n  'created_at': '2022-05-30T10:41:05.000Z',\n  'author_id': '1522691510264897537',\n  'lang': 'en',\n  'text': '@samiabrahim GET THE YOUTH REGISTERED FOR VOTE. June 19 is deadline.\\n\\nSTART A CAMPAIGN TO INCREASE 18-25 VOTER TURN OUT. Election is a science, for Godsakes treat it as one. Trump turned the tables doing just that. Analyzing data tor targeted campaign and increasing suburban turnout.\\n\\nPLEASE!',\n  'source': 'Twitter for iPhone',\n  'public_metrics': {'retweet_count': 0,\n   'reply_count': 0,\n   'like_count': 0,\n   'quote_count': 0}},\n {'id': '1531224141369679873',\n  'created_at': '2022-05-30T10:40:58.000Z',\n  'author_id': '1094022475736903687',\n  'lang': 'en',\n  'text': 'Learn Data Science from DataCamp\\nPay 59$ on an annual subscription \\nEnroll from here: https://t.co/MOd54jQZ6B\\nWatch the review: Data Analyst with Python\\nhttps://t.co/FBHKCCrdV9\\n#ml #research #data #DataScience #MachineLearning  #Rstats #100DaysOfCode',\n  'source': 'Twitter Web App',\n  'public_metrics': {'retweet_count': 3,\n   'reply_count': 0,\n   'like_count': 1,\n   'quote_count': 0}},\n {'id': '1531224125947133954',\n  'created_at': '2022-05-30T10:40:55.000Z',\n  'author_id': '1522691510264897537',\n  'lang': 'en',\n  'text': '@ImranKhanPTI GET THE YOUTH REGISTERED FOR VOTE. June 19 is deadline.\\n\\nSTART A CAMPAIGN TO INCREASE 18-25 VOTER TURN OUT. Election is a science, for Godsakes treat it as one. Trump turned the tables doing just that. Analyzing data tor targeted campaign and increasing suburban turnout.\\n\\nPLEASE!',\n  'source': 'Twitter for iPhone',\n  'public_metrics': {'retweet_count': 0,\n   'reply_count': 0,\n   'like_count': 0,\n   'quote_count': 0}},\n {'id': '1531224091650408448',\n  'created_at': '2022-05-30T10:40:46.000Z',\n  'author_id': '1248203618018344961',\n  'lang': 'en',\n  'text': '🗓️Tuesday :\\nMicroeconometrics Seminar:\\nMartin HUBER (Fribourg) \\n“Testing the identification of causal effects in data”\\nMay 31 ⏰ 12:15 pm - 1:30 pm\\n👉https://t.co/N2B6RCoO1L https://t.co/wYPexz7JUc',\n  'source': 'Twitter Web App',\n  'public_metrics': {'retweet_count': 0,\n   'reply_count': 0,\n   'like_count': 0,\n   'quote_count': 0}},\n {'id': '1531224040563671041',\n  'created_at': '2022-05-30T10:40:34.000Z',\n  'author_id': '1094022475736903687',\n  'lang': 'en',\n  'text': 'Learn Data Science from DataCamp\\nPay 59$ on an annual subscription \\nEnroll from here:https://t.co/MOd54jQZ6B \\nWatch the review: Data Analyst with R \\nhttps://t.co/lXuguGsF0A\\n#ml #research #data #DataScience #MachineLearning  #Rstats #100DaysOfCode',\n  'source': 'Twitter Web App',\n  'public_metrics': {'retweet_count': 2,\n   'reply_count': 0,\n   'like_count': 2,\n   'quote_count': 0}}]"
     },
     "execution_count": 223,
     "metadata": {},
     "output_type": "execute_result"
    }
   ],
   "source": [
    "response[\"data\"]"
   ],
   "metadata": {
    "collapsed": false,
    "pycharm": {
     "name": "#%%\n"
    }
   }
  },
  {
   "cell_type": "code",
   "execution_count": 224,
   "outputs": [
    {
     "data": {
      "text/plain": "                     id                created_at            author_id lang  \\\n0   1531227544099635200  2022-05-30T10:54:30.000Z  1455547476941975554   en   \n1   1531227432409346048  2022-05-30T10:54:03.000Z            448002010   en   \n2   1531227347227377664  2022-05-30T10:53:43.000Z  1249991751994990592   en   \n3   1531227142666829824  2022-05-30T10:52:54.000Z  1517642926427451395   en   \n4   1531226962773032960  2022-05-30T10:52:11.000Z   704627962314891264   en   \n5   1531226768627183617  2022-05-30T10:51:25.000Z           2374479512   en   \n6   1531226673932279808  2022-05-30T10:51:02.000Z             14847675   en   \n7   1531226615723839488  2022-05-30T10:50:48.000Z  1478462793435205632   en   \n8   1531226606768902144  2022-05-30T10:50:46.000Z            411753065   en   \n9   1531226462959079424  2022-05-30T10:50:12.000Z  1526449163126607872   en   \n10  1531226430016716802  2022-05-30T10:50:04.000Z            615205006   en   \n11  1531226309082370049  2022-05-30T10:49:35.000Z             15278704   es   \n12  1531225926947819522  2022-05-30T10:48:04.000Z             15807849   en   \n13  1531225522323312640  2022-05-30T10:46:27.000Z           2716028982   en   \n14  1531225512382763010  2022-05-30T10:46:25.000Z            196590875   tr   \n15  1531225169733238787  2022-05-30T10:45:03.000Z             37715152   en   \n16  1531225014661414912  2022-05-30T10:44:26.000Z  1371872661089837059   en   \n17  1531224940078370817  2022-05-30T10:44:09.000Z  1318909592668168192   en   \n18  1531224774923456513  2022-05-30T10:43:29.000Z            609464258   en   \n19  1531224664260984832  2022-05-30T10:43:03.000Z  1522691510264897537   en   \n20  1531224602348818437  2022-05-30T10:42:48.000Z            331486721   en   \n21  1531224466260467712  2022-05-30T10:42:16.000Z  1094022475736903687   en   \n22  1531224338430627841  2022-05-30T10:41:45.000Z            373554143   en   \n23  1531224278196277251  2022-05-30T10:41:31.000Z  1094022475736903687   en   \n24  1531224260970172416  2022-05-30T10:41:27.000Z             35002743   en   \n25  1531224171304337408  2022-05-30T10:41:05.000Z  1522691510264897537   en   \n26  1531224141369679873  2022-05-30T10:40:58.000Z  1094022475736903687   en   \n27  1531224125947133954  2022-05-30T10:40:55.000Z  1522691510264897537   en   \n28  1531224091650408448  2022-05-30T10:40:46.000Z  1248203618018344961   en   \n29  1531224040563671041  2022-05-30T10:40:34.000Z  1094022475736903687   en   \n\n                                                 text               source  \\\n0   📊#Datavisualization is one of the most powerfu...      Twitter Web App   \n1   Made to measure: why we can’t stop quantifying...               Buffer   \n2   Companies in Data Science domains require Rele...      Twitter Web App   \n3   print (\"HELLO, WORLD!\")\\nNOTAR Research &amp; ...      Twitter Web App   \n4   3 Reasons Why Teamwork is an Essential Skill i...            TwinyBots   \n5   Track A: Digital Display Spaces\\nTrack B: Data...      Twitter Web App   \n6   Design Thinking Humanizes #datascience\\nThe #i...      Twitter Web App   \n7   Monkeypox horror as outbreak 'differs by about...   Twitter for iPhone   \n8   #PhDpositions AIMS-Rwanda .@NextEinsteinFor\\n ...      Twitter Web App   \n9   Data science is an emerging discipline. It aro...      Twitter Web App   \n10  It’s Time To Stop Wondering if Animals Are Sen...      Twitter Web App   \n11  ¡Abierta la inscripción! Un nuevo curso que im...      Twitter Web App   \n12  @haylopez25 It is such a shame that struggling...      Twitter Web App   \n13  Russian troops entering Sievierodonetsk in eas...                IFTTT   \n14  Şu @Twitter'da sırf ekonomi, data science, cli...      Twitter Web App   \n15  @mchris4duke loved your UKSG talk Chris! I won...     Twitter for iPad   \n16  🎊 A wonderful keynote by Erin McLaughlin of @T...      Twitter Web App   \n17  The evidence from #decodexpo study revealed th...  Twitter for Android   \n18  #Microplastics added to stream mesocosms reduc...      Twitter Web App   \n19  @MashwaniAzhar GET THE YOUTH REGISTERED FOR VO...   Twitter for iPhone   \n20  #H3Africa@Abuja\\nAttending Single Cell Sequenc...  Twitter for Android   \n21  Learn Data Science from DataCamp\\nPay 59$ on a...      Twitter Web App   \n22  @Jerusalem_Post Garbage study with bad data th...   Twitter for iPhone   \n23  Learn Data Science from DataCamp\\nPay 59$ on a...      Twitter Web App   \n24  The most common myths I have experienced in th...             LinkedIn   \n25  @samiabrahim GET THE YOUTH REGISTERED FOR VOTE...   Twitter for iPhone   \n26  Learn Data Science from DataCamp\\nPay 59$ on a...      Twitter Web App   \n27  @ImranKhanPTI GET THE YOUTH REGISTERED FOR VOT...   Twitter for iPhone   \n28  🗓️Tuesday :\\nMicroeconometrics Seminar:\\nMarti...      Twitter Web App   \n29  Learn Data Science from DataCamp\\nPay 59$ on a...      Twitter Web App   \n\n    public_metrics.retweet_count  public_metrics.reply_count  \\\n0                              0                           0   \n1                              0                           0   \n2                              1                           0   \n3                              0                           0   \n4                              1                           0   \n5                              0                           1   \n6                              1                           0   \n7                              0                           0   \n8                              1                           0   \n9                              0                           0   \n10                             1                           0   \n11                             0                           0   \n12                             0                           0   \n13                             0                           0   \n14                             0                           1   \n15                             0                           0   \n16                             1                           0   \n17                             0                           0   \n18                             2                           0   \n19                             0                           1   \n20                             0                           0   \n21                             5                           0   \n22                             0                           0   \n23                             2                           0   \n24                             0                           0   \n25                             0                           0   \n26                             3                           0   \n27                             0                           0   \n28                             0                           0   \n29                             2                           0   \n\n    public_metrics.like_count  public_metrics.quote_count  \n0                           0                           0  \n1                           0                           0  \n2                           0                           0  \n3                           0                           0  \n4                           0                           0  \n5                           0                           0  \n6                           0                           0  \n7                           0                           0  \n8                           1                           0  \n9                           0                           0  \n10                          1                           0  \n11                          0                           0  \n12                          0                           0  \n13                          0                           0  \n14                          0                           0  \n15                          0                           0  \n16                          2                           0  \n17                          0                           1  \n18                          2                           0  \n19                          0                           0  \n20                          0                           0  \n21                          3                           0  \n22                          1                           0  \n23                          1                           0  \n24                          1                           0  \n25                          0                           0  \n26                          1                           0  \n27                          0                           0  \n28                          0                           0  \n29                          2                           0  ",
      "text/html": "<div>\n<style scoped>\n    .dataframe tbody tr th:only-of-type {\n        vertical-align: middle;\n    }\n\n    .dataframe tbody tr th {\n        vertical-align: top;\n    }\n\n    .dataframe thead th {\n        text-align: right;\n    }\n</style>\n<table border=\"1\" class=\"dataframe\">\n  <thead>\n    <tr style=\"text-align: right;\">\n      <th></th>\n      <th>id</th>\n      <th>created_at</th>\n      <th>author_id</th>\n      <th>lang</th>\n      <th>text</th>\n      <th>source</th>\n      <th>public_metrics.retweet_count</th>\n      <th>public_metrics.reply_count</th>\n      <th>public_metrics.like_count</th>\n      <th>public_metrics.quote_count</th>\n    </tr>\n  </thead>\n  <tbody>\n    <tr>\n      <th>0</th>\n      <td>1531227544099635200</td>\n      <td>2022-05-30T10:54:30.000Z</td>\n      <td>1455547476941975554</td>\n      <td>en</td>\n      <td>📊#Datavisualization is one of the most powerfu...</td>\n      <td>Twitter Web App</td>\n      <td>0</td>\n      <td>0</td>\n      <td>0</td>\n      <td>0</td>\n    </tr>\n    <tr>\n      <th>1</th>\n      <td>1531227432409346048</td>\n      <td>2022-05-30T10:54:03.000Z</td>\n      <td>448002010</td>\n      <td>en</td>\n      <td>Made to measure: why we can’t stop quantifying...</td>\n      <td>Buffer</td>\n      <td>0</td>\n      <td>0</td>\n      <td>0</td>\n      <td>0</td>\n    </tr>\n    <tr>\n      <th>2</th>\n      <td>1531227347227377664</td>\n      <td>2022-05-30T10:53:43.000Z</td>\n      <td>1249991751994990592</td>\n      <td>en</td>\n      <td>Companies in Data Science domains require Rele...</td>\n      <td>Twitter Web App</td>\n      <td>1</td>\n      <td>0</td>\n      <td>0</td>\n      <td>0</td>\n    </tr>\n    <tr>\n      <th>3</th>\n      <td>1531227142666829824</td>\n      <td>2022-05-30T10:52:54.000Z</td>\n      <td>1517642926427451395</td>\n      <td>en</td>\n      <td>print (\"HELLO, WORLD!\")\\nNOTAR Research &amp;amp; ...</td>\n      <td>Twitter Web App</td>\n      <td>0</td>\n      <td>0</td>\n      <td>0</td>\n      <td>0</td>\n    </tr>\n    <tr>\n      <th>4</th>\n      <td>1531226962773032960</td>\n      <td>2022-05-30T10:52:11.000Z</td>\n      <td>704627962314891264</td>\n      <td>en</td>\n      <td>3 Reasons Why Teamwork is an Essential Skill i...</td>\n      <td>TwinyBots</td>\n      <td>1</td>\n      <td>0</td>\n      <td>0</td>\n      <td>0</td>\n    </tr>\n    <tr>\n      <th>5</th>\n      <td>1531226768627183617</td>\n      <td>2022-05-30T10:51:25.000Z</td>\n      <td>2374479512</td>\n      <td>en</td>\n      <td>Track A: Digital Display Spaces\\nTrack B: Data...</td>\n      <td>Twitter Web App</td>\n      <td>0</td>\n      <td>1</td>\n      <td>0</td>\n      <td>0</td>\n    </tr>\n    <tr>\n      <th>6</th>\n      <td>1531226673932279808</td>\n      <td>2022-05-30T10:51:02.000Z</td>\n      <td>14847675</td>\n      <td>en</td>\n      <td>Design Thinking Humanizes #datascience\\nThe #i...</td>\n      <td>Twitter Web App</td>\n      <td>1</td>\n      <td>0</td>\n      <td>0</td>\n      <td>0</td>\n    </tr>\n    <tr>\n      <th>7</th>\n      <td>1531226615723839488</td>\n      <td>2022-05-30T10:50:48.000Z</td>\n      <td>1478462793435205632</td>\n      <td>en</td>\n      <td>Monkeypox horror as outbreak 'differs by about...</td>\n      <td>Twitter for iPhone</td>\n      <td>0</td>\n      <td>0</td>\n      <td>0</td>\n      <td>0</td>\n    </tr>\n    <tr>\n      <th>8</th>\n      <td>1531226606768902144</td>\n      <td>2022-05-30T10:50:46.000Z</td>\n      <td>411753065</td>\n      <td>en</td>\n      <td>#PhDpositions AIMS-Rwanda .@NextEinsteinFor\\n ...</td>\n      <td>Twitter Web App</td>\n      <td>1</td>\n      <td>0</td>\n      <td>1</td>\n      <td>0</td>\n    </tr>\n    <tr>\n      <th>9</th>\n      <td>1531226462959079424</td>\n      <td>2022-05-30T10:50:12.000Z</td>\n      <td>1526449163126607872</td>\n      <td>en</td>\n      <td>Data science is an emerging discipline. It aro...</td>\n      <td>Twitter Web App</td>\n      <td>0</td>\n      <td>0</td>\n      <td>0</td>\n      <td>0</td>\n    </tr>\n    <tr>\n      <th>10</th>\n      <td>1531226430016716802</td>\n      <td>2022-05-30T10:50:04.000Z</td>\n      <td>615205006</td>\n      <td>en</td>\n      <td>It’s Time To Stop Wondering if Animals Are Sen...</td>\n      <td>Twitter Web App</td>\n      <td>1</td>\n      <td>0</td>\n      <td>1</td>\n      <td>0</td>\n    </tr>\n    <tr>\n      <th>11</th>\n      <td>1531226309082370049</td>\n      <td>2022-05-30T10:49:35.000Z</td>\n      <td>15278704</td>\n      <td>es</td>\n      <td>¡Abierta la inscripción! Un nuevo curso que im...</td>\n      <td>Twitter Web App</td>\n      <td>0</td>\n      <td>0</td>\n      <td>0</td>\n      <td>0</td>\n    </tr>\n    <tr>\n      <th>12</th>\n      <td>1531225926947819522</td>\n      <td>2022-05-30T10:48:04.000Z</td>\n      <td>15807849</td>\n      <td>en</td>\n      <td>@haylopez25 It is such a shame that struggling...</td>\n      <td>Twitter Web App</td>\n      <td>0</td>\n      <td>0</td>\n      <td>0</td>\n      <td>0</td>\n    </tr>\n    <tr>\n      <th>13</th>\n      <td>1531225522323312640</td>\n      <td>2022-05-30T10:46:27.000Z</td>\n      <td>2716028982</td>\n      <td>en</td>\n      <td>Russian troops entering Sievierodonetsk in eas...</td>\n      <td>IFTTT</td>\n      <td>0</td>\n      <td>0</td>\n      <td>0</td>\n      <td>0</td>\n    </tr>\n    <tr>\n      <th>14</th>\n      <td>1531225512382763010</td>\n      <td>2022-05-30T10:46:25.000Z</td>\n      <td>196590875</td>\n      <td>tr</td>\n      <td>Şu @Twitter'da sırf ekonomi, data science, cli...</td>\n      <td>Twitter Web App</td>\n      <td>0</td>\n      <td>1</td>\n      <td>0</td>\n      <td>0</td>\n    </tr>\n    <tr>\n      <th>15</th>\n      <td>1531225169733238787</td>\n      <td>2022-05-30T10:45:03.000Z</td>\n      <td>37715152</td>\n      <td>en</td>\n      <td>@mchris4duke loved your UKSG talk Chris! I won...</td>\n      <td>Twitter for iPad</td>\n      <td>0</td>\n      <td>0</td>\n      <td>0</td>\n      <td>0</td>\n    </tr>\n    <tr>\n      <th>16</th>\n      <td>1531225014661414912</td>\n      <td>2022-05-30T10:44:26.000Z</td>\n      <td>1371872661089837059</td>\n      <td>en</td>\n      <td>🎊 A wonderful keynote by Erin McLaughlin of @T...</td>\n      <td>Twitter Web App</td>\n      <td>1</td>\n      <td>0</td>\n      <td>2</td>\n      <td>0</td>\n    </tr>\n    <tr>\n      <th>17</th>\n      <td>1531224940078370817</td>\n      <td>2022-05-30T10:44:09.000Z</td>\n      <td>1318909592668168192</td>\n      <td>en</td>\n      <td>The evidence from #decodexpo study revealed th...</td>\n      <td>Twitter for Android</td>\n      <td>0</td>\n      <td>0</td>\n      <td>0</td>\n      <td>1</td>\n    </tr>\n    <tr>\n      <th>18</th>\n      <td>1531224774923456513</td>\n      <td>2022-05-30T10:43:29.000Z</td>\n      <td>609464258</td>\n      <td>en</td>\n      <td>#Microplastics added to stream mesocosms reduc...</td>\n      <td>Twitter Web App</td>\n      <td>2</td>\n      <td>0</td>\n      <td>2</td>\n      <td>0</td>\n    </tr>\n    <tr>\n      <th>19</th>\n      <td>1531224664260984832</td>\n      <td>2022-05-30T10:43:03.000Z</td>\n      <td>1522691510264897537</td>\n      <td>en</td>\n      <td>@MashwaniAzhar GET THE YOUTH REGISTERED FOR VO...</td>\n      <td>Twitter for iPhone</td>\n      <td>0</td>\n      <td>1</td>\n      <td>0</td>\n      <td>0</td>\n    </tr>\n    <tr>\n      <th>20</th>\n      <td>1531224602348818437</td>\n      <td>2022-05-30T10:42:48.000Z</td>\n      <td>331486721</td>\n      <td>en</td>\n      <td>#H3Africa@Abuja\\nAttending Single Cell Sequenc...</td>\n      <td>Twitter for Android</td>\n      <td>0</td>\n      <td>0</td>\n      <td>0</td>\n      <td>0</td>\n    </tr>\n    <tr>\n      <th>21</th>\n      <td>1531224466260467712</td>\n      <td>2022-05-30T10:42:16.000Z</td>\n      <td>1094022475736903687</td>\n      <td>en</td>\n      <td>Learn Data Science from DataCamp\\nPay 59$ on a...</td>\n      <td>Twitter Web App</td>\n      <td>5</td>\n      <td>0</td>\n      <td>3</td>\n      <td>0</td>\n    </tr>\n    <tr>\n      <th>22</th>\n      <td>1531224338430627841</td>\n      <td>2022-05-30T10:41:45.000Z</td>\n      <td>373554143</td>\n      <td>en</td>\n      <td>@Jerusalem_Post Garbage study with bad data th...</td>\n      <td>Twitter for iPhone</td>\n      <td>0</td>\n      <td>0</td>\n      <td>1</td>\n      <td>0</td>\n    </tr>\n    <tr>\n      <th>23</th>\n      <td>1531224278196277251</td>\n      <td>2022-05-30T10:41:31.000Z</td>\n      <td>1094022475736903687</td>\n      <td>en</td>\n      <td>Learn Data Science from DataCamp\\nPay 59$ on a...</td>\n      <td>Twitter Web App</td>\n      <td>2</td>\n      <td>0</td>\n      <td>1</td>\n      <td>0</td>\n    </tr>\n    <tr>\n      <th>24</th>\n      <td>1531224260970172416</td>\n      <td>2022-05-30T10:41:27.000Z</td>\n      <td>35002743</td>\n      <td>en</td>\n      <td>The most common myths I have experienced in th...</td>\n      <td>LinkedIn</td>\n      <td>0</td>\n      <td>0</td>\n      <td>1</td>\n      <td>0</td>\n    </tr>\n    <tr>\n      <th>25</th>\n      <td>1531224171304337408</td>\n      <td>2022-05-30T10:41:05.000Z</td>\n      <td>1522691510264897537</td>\n      <td>en</td>\n      <td>@samiabrahim GET THE YOUTH REGISTERED FOR VOTE...</td>\n      <td>Twitter for iPhone</td>\n      <td>0</td>\n      <td>0</td>\n      <td>0</td>\n      <td>0</td>\n    </tr>\n    <tr>\n      <th>26</th>\n      <td>1531224141369679873</td>\n      <td>2022-05-30T10:40:58.000Z</td>\n      <td>1094022475736903687</td>\n      <td>en</td>\n      <td>Learn Data Science from DataCamp\\nPay 59$ on a...</td>\n      <td>Twitter Web App</td>\n      <td>3</td>\n      <td>0</td>\n      <td>1</td>\n      <td>0</td>\n    </tr>\n    <tr>\n      <th>27</th>\n      <td>1531224125947133954</td>\n      <td>2022-05-30T10:40:55.000Z</td>\n      <td>1522691510264897537</td>\n      <td>en</td>\n      <td>@ImranKhanPTI GET THE YOUTH REGISTERED FOR VOT...</td>\n      <td>Twitter for iPhone</td>\n      <td>0</td>\n      <td>0</td>\n      <td>0</td>\n      <td>0</td>\n    </tr>\n    <tr>\n      <th>28</th>\n      <td>1531224091650408448</td>\n      <td>2022-05-30T10:40:46.000Z</td>\n      <td>1248203618018344961</td>\n      <td>en</td>\n      <td>🗓️Tuesday :\\nMicroeconometrics Seminar:\\nMarti...</td>\n      <td>Twitter Web App</td>\n      <td>0</td>\n      <td>0</td>\n      <td>0</td>\n      <td>0</td>\n    </tr>\n    <tr>\n      <th>29</th>\n      <td>1531224040563671041</td>\n      <td>2022-05-30T10:40:34.000Z</td>\n      <td>1094022475736903687</td>\n      <td>en</td>\n      <td>Learn Data Science from DataCamp\\nPay 59$ on a...</td>\n      <td>Twitter Web App</td>\n      <td>2</td>\n      <td>0</td>\n      <td>2</td>\n      <td>0</td>\n    </tr>\n  </tbody>\n</table>\n</div>"
     },
     "execution_count": 224,
     "metadata": {},
     "output_type": "execute_result"
    }
   ],
   "source": [
    "tweets = pd.json_normalize(response[\"data\"])\n",
    "tweets"
   ],
   "metadata": {
    "collapsed": false,
    "pycharm": {
     "name": "#%%\n"
    }
   }
  },
  {
   "cell_type": "markdown",
   "source": [
    "### Author data"
   ],
   "metadata": {
    "collapsed": false
   }
  },
  {
   "cell_type": "code",
   "execution_count": 225,
   "outputs": [
    {
     "data": {
      "text/plain": "                     id                                name         username\n0   1455547476941975554                       Cosmos Thrace     CosmosThrace\n1             448002010                    Continuum Health  ContinuumPharma\n2   1249991751994990592                          Skillslash       skillslash\n3   1517642926427451395                               NOTAR   NotarAnalytics\n4    704627962314891264                               Necio       Necio_news\n5            2374479512                         iArtHis_Lab       iArtHislab\n6              14847675                        Yves Mulkers      YvesMulkers\n7   1478462793435205632                             KENNETH  KENNETH36674712\n8             411753065              Alessandro Crimi 🧠🧬🔬🩺🧪    Dr_Alex_Crimi\n9   1526449163126607872                         darsh bhatt     darshbhatt11\n10            615205006                         Marc Bekoff       MarcBekoff\n11             15278704  Prof. Dr. Gualberto Asencio Cortés        gualberto\n12             15807849                          Van Morris        vanmorris\n13           2716028982                            3novices         3novices\n14            196590875     Emre Akanak - אמרה ישראל אקאנאק       EmreAkanak\n15             37715152                     Liam Bullingham       liamealbee\n16  1371872661089837059                          DNI.events    dnirecruiting\n17  1318909592668168192                           DecodExpo        DecodExpo\n18            609464258                     Steve Ormerod 💙     SteveOrmerod\n19  1522691510264897537                         Psychedelic  doc_Psychedelic\n20            331486721                             ISHReCA          ISHReCA\n21  1094022475736903687                           Themis277        themis277\n22            373554143              Numbercruncher2012🇺🇸🇮🇱  Numbercruncher3\n23             35002743                     Mohammad Arshad         arshad83\n24  1248203618018344961                    CREST (UMR 9194)         CrestUmr",
      "text/html": "<div>\n<style scoped>\n    .dataframe tbody tr th:only-of-type {\n        vertical-align: middle;\n    }\n\n    .dataframe tbody tr th {\n        vertical-align: top;\n    }\n\n    .dataframe thead th {\n        text-align: right;\n    }\n</style>\n<table border=\"1\" class=\"dataframe\">\n  <thead>\n    <tr style=\"text-align: right;\">\n      <th></th>\n      <th>id</th>\n      <th>name</th>\n      <th>username</th>\n    </tr>\n  </thead>\n  <tbody>\n    <tr>\n      <th>0</th>\n      <td>1455547476941975554</td>\n      <td>Cosmos Thrace</td>\n      <td>CosmosThrace</td>\n    </tr>\n    <tr>\n      <th>1</th>\n      <td>448002010</td>\n      <td>Continuum Health</td>\n      <td>ContinuumPharma</td>\n    </tr>\n    <tr>\n      <th>2</th>\n      <td>1249991751994990592</td>\n      <td>Skillslash</td>\n      <td>skillslash</td>\n    </tr>\n    <tr>\n      <th>3</th>\n      <td>1517642926427451395</td>\n      <td>NOTAR</td>\n      <td>NotarAnalytics</td>\n    </tr>\n    <tr>\n      <th>4</th>\n      <td>704627962314891264</td>\n      <td>Necio</td>\n      <td>Necio_news</td>\n    </tr>\n    <tr>\n      <th>5</th>\n      <td>2374479512</td>\n      <td>iArtHis_Lab</td>\n      <td>iArtHislab</td>\n    </tr>\n    <tr>\n      <th>6</th>\n      <td>14847675</td>\n      <td>Yves Mulkers</td>\n      <td>YvesMulkers</td>\n    </tr>\n    <tr>\n      <th>7</th>\n      <td>1478462793435205632</td>\n      <td>KENNETH</td>\n      <td>KENNETH36674712</td>\n    </tr>\n    <tr>\n      <th>8</th>\n      <td>411753065</td>\n      <td>Alessandro Crimi 🧠🧬🔬🩺🧪</td>\n      <td>Dr_Alex_Crimi</td>\n    </tr>\n    <tr>\n      <th>9</th>\n      <td>1526449163126607872</td>\n      <td>darsh bhatt</td>\n      <td>darshbhatt11</td>\n    </tr>\n    <tr>\n      <th>10</th>\n      <td>615205006</td>\n      <td>Marc Bekoff</td>\n      <td>MarcBekoff</td>\n    </tr>\n    <tr>\n      <th>11</th>\n      <td>15278704</td>\n      <td>Prof. Dr. Gualberto Asencio Cortés</td>\n      <td>gualberto</td>\n    </tr>\n    <tr>\n      <th>12</th>\n      <td>15807849</td>\n      <td>Van Morris</td>\n      <td>vanmorris</td>\n    </tr>\n    <tr>\n      <th>13</th>\n      <td>2716028982</td>\n      <td>3novices</td>\n      <td>3novices</td>\n    </tr>\n    <tr>\n      <th>14</th>\n      <td>196590875</td>\n      <td>Emre Akanak - אמרה ישראל אקאנאק</td>\n      <td>EmreAkanak</td>\n    </tr>\n    <tr>\n      <th>15</th>\n      <td>37715152</td>\n      <td>Liam Bullingham</td>\n      <td>liamealbee</td>\n    </tr>\n    <tr>\n      <th>16</th>\n      <td>1371872661089837059</td>\n      <td>DNI.events</td>\n      <td>dnirecruiting</td>\n    </tr>\n    <tr>\n      <th>17</th>\n      <td>1318909592668168192</td>\n      <td>DecodExpo</td>\n      <td>DecodExpo</td>\n    </tr>\n    <tr>\n      <th>18</th>\n      <td>609464258</td>\n      <td>Steve Ormerod 💙</td>\n      <td>SteveOrmerod</td>\n    </tr>\n    <tr>\n      <th>19</th>\n      <td>1522691510264897537</td>\n      <td>Psychedelic</td>\n      <td>doc_Psychedelic</td>\n    </tr>\n    <tr>\n      <th>20</th>\n      <td>331486721</td>\n      <td>ISHReCA</td>\n      <td>ISHReCA</td>\n    </tr>\n    <tr>\n      <th>21</th>\n      <td>1094022475736903687</td>\n      <td>Themis277</td>\n      <td>themis277</td>\n    </tr>\n    <tr>\n      <th>22</th>\n      <td>373554143</td>\n      <td>Numbercruncher2012🇺🇸🇮🇱</td>\n      <td>Numbercruncher3</td>\n    </tr>\n    <tr>\n      <th>23</th>\n      <td>35002743</td>\n      <td>Mohammad Arshad</td>\n      <td>arshad83</td>\n    </tr>\n    <tr>\n      <th>24</th>\n      <td>1248203618018344961</td>\n      <td>CREST (UMR 9194)</td>\n      <td>CrestUmr</td>\n    </tr>\n  </tbody>\n</table>\n</div>"
     },
     "execution_count": 225,
     "metadata": {},
     "output_type": "execute_result"
    }
   ],
   "source": [
    "tweet_authors = pd.json_normalize(response[\"includes\"][\"users\"])\n",
    "tweet_authors"
   ],
   "metadata": {
    "collapsed": false,
    "pycharm": {
     "name": "#%%\n"
    }
   }
  },
  {
   "cell_type": "markdown",
   "source": [
    "## Merge tweet and author data"
   ],
   "metadata": {
    "collapsed": false,
    "pycharm": {
     "name": "#%% md\n"
    }
   }
  },
  {
   "cell_type": "code",
   "execution_count": 226,
   "outputs": [],
   "source": [
    "tweets_data = pd.merge(tweets,\n",
    "                       tweet_authors,\n",
    "                       left_on =\"author_id\",\n",
    "                       right_on = \"id\",\n",
    "                       suffixes = (\"\",\"_drop\"), # Used to drop duplicate column\n",
    "                       how=\"inner\") # author id called id in tweets df\n",
    "tweets_data.drop([col for col in tweets_data.columns if 'drop' in col], axis=1, inplace=True) # Drop duplicate author id column from tweet_authors"
   ],
   "metadata": {
    "collapsed": false,
    "pycharm": {
     "name": "#%%\n"
    }
   }
  },
  {
   "cell_type": "markdown",
   "source": [
    "And here is the finished dataframe with all the data on tweets we have requested."
   ],
   "metadata": {
    "collapsed": false
   }
  },
  {
   "cell_type": "markdown",
   "source": [
    "## Finished dataframe"
   ],
   "metadata": {
    "collapsed": false
   }
  },
  {
   "cell_type": "code",
   "execution_count": 242,
   "outputs": [
    {
     "data": {
      "text/plain": "                    id                created_at            author_id lang  \\\n0  1531227544099635200  2022-05-30T10:54:30.000Z  1455547476941975554   en   \n1  1531227432409346048  2022-05-30T10:54:03.000Z            448002010   en   \n2  1531227347227377664  2022-05-30T10:53:43.000Z  1249991751994990592   en   \n3  1531227142666829824  2022-05-30T10:52:54.000Z  1517642926427451395   en   \n4  1531226962773032960  2022-05-30T10:52:11.000Z   704627962314891264   en   \n\n                                                text           source  \\\n0  📊#Datavisualization is one of the most powerfu...  Twitter Web App   \n1  Made to measure: why we can’t stop quantifying...           Buffer   \n2  Companies in Data Science domains require Rele...  Twitter Web App   \n3  print (\"HELLO, WORLD!\")\\nNOTAR Research &amp; ...  Twitter Web App   \n4  3 Reasons Why Teamwork is an Essential Skill i...        TwinyBots   \n\n   public_metrics.retweet_count  public_metrics.reply_count  \\\n0                             0                           0   \n1                             0                           0   \n2                             1                           0   \n3                             0                           0   \n4                             1                           0   \n\n   public_metrics.like_count  public_metrics.quote_count              name  \\\n0                          0                           0     Cosmos Thrace   \n1                          0                           0  Continuum Health   \n2                          0                           0        Skillslash   \n3                          0                           0             NOTAR   \n4                          0                           0             Necio   \n\n          username  \n0     CosmosThrace  \n1  ContinuumPharma  \n2       skillslash  \n3   NotarAnalytics  \n4       Necio_news  ",
      "text/html": "<div>\n<style scoped>\n    .dataframe tbody tr th:only-of-type {\n        vertical-align: middle;\n    }\n\n    .dataframe tbody tr th {\n        vertical-align: top;\n    }\n\n    .dataframe thead th {\n        text-align: right;\n    }\n</style>\n<table border=\"1\" class=\"dataframe\">\n  <thead>\n    <tr style=\"text-align: right;\">\n      <th></th>\n      <th>id</th>\n      <th>created_at</th>\n      <th>author_id</th>\n      <th>lang</th>\n      <th>text</th>\n      <th>source</th>\n      <th>public_metrics.retweet_count</th>\n      <th>public_metrics.reply_count</th>\n      <th>public_metrics.like_count</th>\n      <th>public_metrics.quote_count</th>\n      <th>name</th>\n      <th>username</th>\n    </tr>\n  </thead>\n  <tbody>\n    <tr>\n      <th>0</th>\n      <td>1531227544099635200</td>\n      <td>2022-05-30T10:54:30.000Z</td>\n      <td>1455547476941975554</td>\n      <td>en</td>\n      <td>📊#Datavisualization is one of the most powerfu...</td>\n      <td>Twitter Web App</td>\n      <td>0</td>\n      <td>0</td>\n      <td>0</td>\n      <td>0</td>\n      <td>Cosmos Thrace</td>\n      <td>CosmosThrace</td>\n    </tr>\n    <tr>\n      <th>1</th>\n      <td>1531227432409346048</td>\n      <td>2022-05-30T10:54:03.000Z</td>\n      <td>448002010</td>\n      <td>en</td>\n      <td>Made to measure: why we can’t stop quantifying...</td>\n      <td>Buffer</td>\n      <td>0</td>\n      <td>0</td>\n      <td>0</td>\n      <td>0</td>\n      <td>Continuum Health</td>\n      <td>ContinuumPharma</td>\n    </tr>\n    <tr>\n      <th>2</th>\n      <td>1531227347227377664</td>\n      <td>2022-05-30T10:53:43.000Z</td>\n      <td>1249991751994990592</td>\n      <td>en</td>\n      <td>Companies in Data Science domains require Rele...</td>\n      <td>Twitter Web App</td>\n      <td>1</td>\n      <td>0</td>\n      <td>0</td>\n      <td>0</td>\n      <td>Skillslash</td>\n      <td>skillslash</td>\n    </tr>\n    <tr>\n      <th>3</th>\n      <td>1531227142666829824</td>\n      <td>2022-05-30T10:52:54.000Z</td>\n      <td>1517642926427451395</td>\n      <td>en</td>\n      <td>print (\"HELLO, WORLD!\")\\nNOTAR Research &amp;amp; ...</td>\n      <td>Twitter Web App</td>\n      <td>0</td>\n      <td>0</td>\n      <td>0</td>\n      <td>0</td>\n      <td>NOTAR</td>\n      <td>NotarAnalytics</td>\n    </tr>\n    <tr>\n      <th>4</th>\n      <td>1531226962773032960</td>\n      <td>2022-05-30T10:52:11.000Z</td>\n      <td>704627962314891264</td>\n      <td>en</td>\n      <td>3 Reasons Why Teamwork is an Essential Skill i...</td>\n      <td>TwinyBots</td>\n      <td>1</td>\n      <td>0</td>\n      <td>0</td>\n      <td>0</td>\n      <td>Necio</td>\n      <td>Necio_news</td>\n    </tr>\n  </tbody>\n</table>\n</div>"
     },
     "execution_count": 242,
     "metadata": {},
     "output_type": "execute_result"
    }
   ],
   "source": [
    "tweets_data.head()"
   ],
   "metadata": {
    "collapsed": false,
    "pycharm": {
     "name": "#%%\n"
    }
   }
  },
  {
   "cell_type": "code",
   "execution_count": 244,
   "outputs": [
    {
     "name": "stdout",
     "output_type": "stream",
     "text": [
      "<class 'pandas.core.frame.DataFrame'>\n",
      "Int64Index: 30 entries, 0 to 29\n",
      "Data columns (total 12 columns):\n",
      " #   Column                        Non-Null Count  Dtype \n",
      "---  ------                        --------------  ----- \n",
      " 0   id                            30 non-null     object\n",
      " 1   created_at                    30 non-null     object\n",
      " 2   author_id                     30 non-null     object\n",
      " 3   lang                          30 non-null     object\n",
      " 4   text                          30 non-null     object\n",
      " 5   source                        30 non-null     object\n",
      " 6   public_metrics.retweet_count  30 non-null     int64 \n",
      " 7   public_metrics.reply_count    30 non-null     int64 \n",
      " 8   public_metrics.like_count     30 non-null     int64 \n",
      " 9   public_metrics.quote_count    30 non-null     int64 \n",
      " 10  name                          30 non-null     object\n",
      " 11  username                      30 non-null     object\n",
      "dtypes: int64(4), object(8)\n",
      "memory usage: 3.0+ KB\n"
     ]
    }
   ],
   "source": [
    "tweets_data.info()"
   ],
   "metadata": {
    "collapsed": false,
    "pycharm": {
     "name": "#%%\n"
    }
   }
  },
  {
   "cell_type": "code",
   "execution_count": 254,
   "outputs": [
    {
     "data": {
      "text/plain": "id                                                            1531227544099635200\ncreated_at                                               2022-05-30T10:54:30.000Z\nauthor_id                                                     1455547476941975554\nlang                                                                           en\ntext                            📊#Datavisualization is one of the most powerfu...\nsource                                                            Twitter Web App\npublic_metrics.retweet_count                                                    0\npublic_metrics.reply_count                                                      0\npublic_metrics.like_count                                                       0\npublic_metrics.quote_count                                                      0\nname                                                                Cosmos Thrace\nusername                                                             CosmosThrace\nName: 0, dtype: object"
     },
     "execution_count": 254,
     "metadata": {},
     "output_type": "execute_result"
    }
   ],
   "source": [
    "tweets_data.loc[0]"
   ],
   "metadata": {
    "collapsed": false,
    "pycharm": {
     "name": "#%%\n"
    }
   }
  },
  {
   "cell_type": "code",
   "execution_count": 228,
   "outputs": [],
   "source": [
    "tweets_data.to_csv(\"recent_tweets_data.csv\")"
   ],
   "metadata": {
    "collapsed": false,
    "pycharm": {
     "name": "#%%\n"
    }
   }
  }
 ],
 "metadata": {
  "kernelspec": {
   "display_name": "Python 3",
   "language": "python",
   "name": "python3"
  },
  "language_info": {
   "codemirror_mode": {
    "name": "ipython",
    "version": 2
   },
   "file_extension": ".py",
   "mimetype": "text/x-python",
   "name": "python",
   "nbconvert_exporter": "python",
   "pygments_lexer": "ipython2",
   "version": "2.7.6"
  }
 },
 "nbformat": 4,
 "nbformat_minor": 0
}