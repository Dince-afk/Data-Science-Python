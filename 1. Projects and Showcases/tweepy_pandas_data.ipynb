{
 "cells": [
  {
   "cell_type": "markdown",
   "source": [
    "# Get Twitter Data with Tweepy and Help from Pandas"
   ],
   "metadata": {
    "collapsed": false
   }
  },
  {
   "cell_type": "markdown",
   "source": [
    "## Libraries"
   ],
   "metadata": {
    "collapsed": false,
    "pycharm": {
     "name": "#%% md\n"
    }
   }
  },
  {
   "cell_type": "code",
   "execution_count": 10,
   "metadata": {
    "collapsed": true
   },
   "outputs": [],
   "source": [
    "import requests\n",
    "import tweepy\n",
    "import pandas as pd\n",
    "import json"
   ]
  },
  {
   "cell_type": "markdown",
   "source": [
    "## Authentication input"
   ],
   "metadata": {
    "collapsed": false
   }
  },
  {
   "cell_type": "code",
   "execution_count": 11,
   "outputs": [],
   "source": [
    "BEARER_TOKEN = \"ENTER BEARER TOKEN\""
   ],
   "metadata": {
    "collapsed": false,
    "pycharm": {
     "name": "#%%\n"
    }
   }
  },
  {
   "cell_type": "markdown",
   "source": [
    "## Client"
   ],
   "metadata": {
    "collapsed": false
   }
  },
  {
   "cell_type": "code",
   "execution_count": 13,
   "outputs": [],
   "source": [
    "client = tweepy.Client(\n",
    "    bearer_token=BEARER_TOKEN,\n",
    "    return_type = requests.Response # Needed to use json methods, which makes life much easier\n",
    ")"
   ],
   "metadata": {
    "collapsed": false,
    "pycharm": {
     "name": "#%%\n"
    }
   }
  },
  {
   "cell_type": "markdown",
   "source": [
    "## Get data with search_recent_tweets()\n",
    "Available for essential (most basic and free version) access. By default, returns:\n",
    "* only ten tweets (user `max_results` for more)\n",
    "* text and author_id (called id)\n",
    "* and max 7 days back"
   ],
   "metadata": {
    "collapsed": false
   }
  },
  {
   "cell_type": "code",
   "execution_count": 14,
   "outputs": [
    {
     "data": {
      "text/plain": "<Response [200]>"
     },
     "execution_count": 14,
     "metadata": {},
     "output_type": "execute_result"
    }
   ],
   "source": [
    "query = \"data science -is:retweet\"\n",
    "response = client.search_recent_tweets(query,\n",
    "                                       max_results=30,\n",
    "                                       tweet_fields=[\"created_at\",\"lang\",\"public_metrics\",\"geo\",\"source\",\"withheld\"],\n",
    "                                       expansions=[\"author_id\",\"geo.place_id\"] # This argument returns additional \"includes\" data compartment in response\n",
    "                                       )\n",
    "response"
   ],
   "metadata": {
    "collapsed": false,
    "pycharm": {
     "name": "#%%\n"
    }
   }
  },
  {
   "cell_type": "markdown",
   "source": [
    "## json"
   ],
   "metadata": {
    "collapsed": false
   }
  },
  {
   "cell_type": "code",
   "execution_count": 15,
   "outputs": [],
   "source": [
    "response = response.json()"
   ],
   "metadata": {
    "collapsed": false,
    "pycharm": {
     "name": "#%%\n"
    }
   }
  },
  {
   "cell_type": "markdown",
   "source": [
    "## The split data issue"
   ],
   "metadata": {
    "collapsed": false
   }
  },
  {
   "cell_type": "markdown",
   "source": [
    "The API call returns the tweet data under two keys, \"data\" and \"includes\" (as well as meta data under the \"meta\" key). \"data\" has data on the tweets per se (text, language, date created), while \"includes\" has data on the user (name, username).\n",
    "\n",
    "This means, that if we want to create one single dataframe, we have to create tweet_data and author_data first, and then merge them on their \"author_id\" column secondly."
   ],
   "metadata": {
    "collapsed": false
   }
  },
  {
   "cell_type": "markdown",
   "source": [
    "### Tweet data"
   ],
   "metadata": {
    "collapsed": false
   }
  },
  {
   "cell_type": "code",
   "execution_count": 16,
   "outputs": [
    {
     "data": {
      "text/plain": "                    id                created_at            author_id lang  \\\n0  1531238119659515906  2022-05-30T11:36:31.000Z              4807561   en   \n1  1531237891946467328  2022-05-30T11:35:37.000Z  1529750009222205446   en   \n2  1531237804935618563  2022-05-30T11:35:16.000Z  1471439196816658435   en   \n3  1531237784484290561  2022-05-30T11:35:11.000Z             69196843   en   \n4  1531237724065513472  2022-05-30T11:34:57.000Z  1222239337548435456   en   \n\n                                                text              source  \\\n0  As data science goes mainstream, so does its l...     Twitter Web App   \n1  #mufc feel the appointment of Dominic Jordan a...  Twitter for iPhone   \n2  .\\nTransforming Environmental Data in R  @UK_C...     Twitter Web App   \n3  @ring_sec @Buffyinnyc Well ignore all the scie...  Twitter for iPhone   \n4  [🌕] #mufc feel the appointment of Dominic Jord...  Twitter for iPhone   \n\n   public_metrics.retweet_count  public_metrics.reply_count  \\\n0                             0                           0   \n1                             0                           0   \n2                             0                           0   \n3                             0                           0   \n4                             0                           0   \n\n   public_metrics.like_count  public_metrics.quote_count  \n0                          0                           0  \n1                          0                           0  \n2                          0                           0  \n3                          0                           0  \n4                         15                           0  ",
      "text/html": "<div>\n<style scoped>\n    .dataframe tbody tr th:only-of-type {\n        vertical-align: middle;\n    }\n\n    .dataframe tbody tr th {\n        vertical-align: top;\n    }\n\n    .dataframe thead th {\n        text-align: right;\n    }\n</style>\n<table border=\"1\" class=\"dataframe\">\n  <thead>\n    <tr style=\"text-align: right;\">\n      <th></th>\n      <th>id</th>\n      <th>created_at</th>\n      <th>author_id</th>\n      <th>lang</th>\n      <th>text</th>\n      <th>source</th>\n      <th>public_metrics.retweet_count</th>\n      <th>public_metrics.reply_count</th>\n      <th>public_metrics.like_count</th>\n      <th>public_metrics.quote_count</th>\n    </tr>\n  </thead>\n  <tbody>\n    <tr>\n      <th>0</th>\n      <td>1531238119659515906</td>\n      <td>2022-05-30T11:36:31.000Z</td>\n      <td>4807561</td>\n      <td>en</td>\n      <td>As data science goes mainstream, so does its l...</td>\n      <td>Twitter Web App</td>\n      <td>0</td>\n      <td>0</td>\n      <td>0</td>\n      <td>0</td>\n    </tr>\n    <tr>\n      <th>1</th>\n      <td>1531237891946467328</td>\n      <td>2022-05-30T11:35:37.000Z</td>\n      <td>1529750009222205446</td>\n      <td>en</td>\n      <td>#mufc feel the appointment of Dominic Jordan a...</td>\n      <td>Twitter for iPhone</td>\n      <td>0</td>\n      <td>0</td>\n      <td>0</td>\n      <td>0</td>\n    </tr>\n    <tr>\n      <th>2</th>\n      <td>1531237804935618563</td>\n      <td>2022-05-30T11:35:16.000Z</td>\n      <td>1471439196816658435</td>\n      <td>en</td>\n      <td>.\\nTransforming Environmental Data in R  @UK_C...</td>\n      <td>Twitter Web App</td>\n      <td>0</td>\n      <td>0</td>\n      <td>0</td>\n      <td>0</td>\n    </tr>\n    <tr>\n      <th>3</th>\n      <td>1531237784484290561</td>\n      <td>2022-05-30T11:35:11.000Z</td>\n      <td>69196843</td>\n      <td>en</td>\n      <td>@ring_sec @Buffyinnyc Well ignore all the scie...</td>\n      <td>Twitter for iPhone</td>\n      <td>0</td>\n      <td>0</td>\n      <td>0</td>\n      <td>0</td>\n    </tr>\n    <tr>\n      <th>4</th>\n      <td>1531237724065513472</td>\n      <td>2022-05-30T11:34:57.000Z</td>\n      <td>1222239337548435456</td>\n      <td>en</td>\n      <td>[🌕] #mufc feel the appointment of Dominic Jord...</td>\n      <td>Twitter for iPhone</td>\n      <td>0</td>\n      <td>0</td>\n      <td>15</td>\n      <td>0</td>\n    </tr>\n  </tbody>\n</table>\n</div>"
     },
     "execution_count": 16,
     "metadata": {},
     "output_type": "execute_result"
    }
   ],
   "source": [
    "tweets = pd.json_normalize(response[\"data\"])\n",
    "tweets.head()"
   ],
   "metadata": {
    "collapsed": false,
    "pycharm": {
     "name": "#%%\n"
    }
   }
  },
  {
   "cell_type": "markdown",
   "source": [
    "### Author data"
   ],
   "metadata": {
    "collapsed": false
   }
  },
  {
   "cell_type": "code",
   "execution_count": 17,
   "outputs": [
    {
     "data": {
      "text/plain": "                    id                                               name  \\\n0              4807561                                       William Toll   \n1  1529750009222205446                                           MUFC! 🔴👀   \n2  1471439196816658435                             UKCEH training courses   \n3             69196843  PT - get vaccinated! Covid killed 1,000,000 so...   \n4  1222239337548435456                                      centredevils.   \n\n         username  \n0         utollwi  \n1       1NewsMufc  \n2  UKCEH_training  \n3          pt35mm  \n4    centredevils  ",
      "text/html": "<div>\n<style scoped>\n    .dataframe tbody tr th:only-of-type {\n        vertical-align: middle;\n    }\n\n    .dataframe tbody tr th {\n        vertical-align: top;\n    }\n\n    .dataframe thead th {\n        text-align: right;\n    }\n</style>\n<table border=\"1\" class=\"dataframe\">\n  <thead>\n    <tr style=\"text-align: right;\">\n      <th></th>\n      <th>id</th>\n      <th>name</th>\n      <th>username</th>\n    </tr>\n  </thead>\n  <tbody>\n    <tr>\n      <th>0</th>\n      <td>4807561</td>\n      <td>William Toll</td>\n      <td>utollwi</td>\n    </tr>\n    <tr>\n      <th>1</th>\n      <td>1529750009222205446</td>\n      <td>MUFC! 🔴👀</td>\n      <td>1NewsMufc</td>\n    </tr>\n    <tr>\n      <th>2</th>\n      <td>1471439196816658435</td>\n      <td>UKCEH training courses</td>\n      <td>UKCEH_training</td>\n    </tr>\n    <tr>\n      <th>3</th>\n      <td>69196843</td>\n      <td>PT - get vaccinated! Covid killed 1,000,000 so...</td>\n      <td>pt35mm</td>\n    </tr>\n    <tr>\n      <th>4</th>\n      <td>1222239337548435456</td>\n      <td>centredevils.</td>\n      <td>centredevils</td>\n    </tr>\n  </tbody>\n</table>\n</div>"
     },
     "execution_count": 17,
     "metadata": {},
     "output_type": "execute_result"
    }
   ],
   "source": [
    "tweet_authors = pd.json_normalize(response[\"includes\"][\"users\"])\n",
    "tweet_authors.head()"
   ],
   "metadata": {
    "collapsed": false,
    "pycharm": {
     "name": "#%%\n"
    }
   }
  },
  {
   "cell_type": "markdown",
   "source": [
    "## Merge tweet and author data"
   ],
   "metadata": {
    "collapsed": false,
    "pycharm": {
     "name": "#%% md\n"
    }
   }
  },
  {
   "cell_type": "code",
   "execution_count": 18,
   "outputs": [],
   "source": [
    "tweets_data = pd.merge(tweets,\n",
    "                       tweet_authors,\n",
    "                       left_on =\"author_id\",\n",
    "                       right_on = \"id\",\n",
    "                       suffixes = (\"\",\"_drop\"), # Used to drop duplicate column\n",
    "                       how=\"inner\") # author id called id in tweets df\n",
    "tweets_data.drop([col for col in tweets_data.columns if 'drop' in col], axis=1, inplace=True) # Drop duplicate author id column from tweet_authors"
   ],
   "metadata": {
    "collapsed": false,
    "pycharm": {
     "name": "#%%\n"
    }
   }
  },
  {
   "cell_type": "markdown",
   "source": [
    "And here is the finished dataframe with all the data on tweets we have requested."
   ],
   "metadata": {
    "collapsed": false
   }
  },
  {
   "cell_type": "markdown",
   "source": [
    "## Finished dataframe"
   ],
   "metadata": {
    "collapsed": false
   }
  },
  {
   "cell_type": "code",
   "execution_count": 19,
   "outputs": [
    {
     "data": {
      "text/plain": "                    id                created_at            author_id lang  \\\n0  1531238119659515906  2022-05-30T11:36:31.000Z              4807561   en   \n1  1531237891946467328  2022-05-30T11:35:37.000Z  1529750009222205446   en   \n2  1531237804935618563  2022-05-30T11:35:16.000Z  1471439196816658435   en   \n3  1531237784484290561  2022-05-30T11:35:11.000Z             69196843   en   \n4  1531237724065513472  2022-05-30T11:34:57.000Z  1222239337548435456   en   \n\n                                                text              source  \\\n0  As data science goes mainstream, so does its l...     Twitter Web App   \n1  #mufc feel the appointment of Dominic Jordan a...  Twitter for iPhone   \n2  .\\nTransforming Environmental Data in R  @UK_C...     Twitter Web App   \n3  @ring_sec @Buffyinnyc Well ignore all the scie...  Twitter for iPhone   \n4  [🌕] #mufc feel the appointment of Dominic Jord...  Twitter for iPhone   \n\n   public_metrics.retweet_count  public_metrics.reply_count  \\\n0                             0                           0   \n1                             0                           0   \n2                             0                           0   \n3                             0                           0   \n4                             0                           0   \n\n   public_metrics.like_count  public_metrics.quote_count  \\\n0                          0                           0   \n1                          0                           0   \n2                          0                           0   \n3                          0                           0   \n4                         15                           0   \n\n                                                name        username  \n0                                       William Toll         utollwi  \n1                                           MUFC! 🔴👀       1NewsMufc  \n2                             UKCEH training courses  UKCEH_training  \n3  PT - get vaccinated! Covid killed 1,000,000 so...          pt35mm  \n4                                      centredevils.    centredevils  ",
      "text/html": "<div>\n<style scoped>\n    .dataframe tbody tr th:only-of-type {\n        vertical-align: middle;\n    }\n\n    .dataframe tbody tr th {\n        vertical-align: top;\n    }\n\n    .dataframe thead th {\n        text-align: right;\n    }\n</style>\n<table border=\"1\" class=\"dataframe\">\n  <thead>\n    <tr style=\"text-align: right;\">\n      <th></th>\n      <th>id</th>\n      <th>created_at</th>\n      <th>author_id</th>\n      <th>lang</th>\n      <th>text</th>\n      <th>source</th>\n      <th>public_metrics.retweet_count</th>\n      <th>public_metrics.reply_count</th>\n      <th>public_metrics.like_count</th>\n      <th>public_metrics.quote_count</th>\n      <th>name</th>\n      <th>username</th>\n    </tr>\n  </thead>\n  <tbody>\n    <tr>\n      <th>0</th>\n      <td>1531238119659515906</td>\n      <td>2022-05-30T11:36:31.000Z</td>\n      <td>4807561</td>\n      <td>en</td>\n      <td>As data science goes mainstream, so does its l...</td>\n      <td>Twitter Web App</td>\n      <td>0</td>\n      <td>0</td>\n      <td>0</td>\n      <td>0</td>\n      <td>William Toll</td>\n      <td>utollwi</td>\n    </tr>\n    <tr>\n      <th>1</th>\n      <td>1531237891946467328</td>\n      <td>2022-05-30T11:35:37.000Z</td>\n      <td>1529750009222205446</td>\n      <td>en</td>\n      <td>#mufc feel the appointment of Dominic Jordan a...</td>\n      <td>Twitter for iPhone</td>\n      <td>0</td>\n      <td>0</td>\n      <td>0</td>\n      <td>0</td>\n      <td>MUFC! 🔴👀</td>\n      <td>1NewsMufc</td>\n    </tr>\n    <tr>\n      <th>2</th>\n      <td>1531237804935618563</td>\n      <td>2022-05-30T11:35:16.000Z</td>\n      <td>1471439196816658435</td>\n      <td>en</td>\n      <td>.\\nTransforming Environmental Data in R  @UK_C...</td>\n      <td>Twitter Web App</td>\n      <td>0</td>\n      <td>0</td>\n      <td>0</td>\n      <td>0</td>\n      <td>UKCEH training courses</td>\n      <td>UKCEH_training</td>\n    </tr>\n    <tr>\n      <th>3</th>\n      <td>1531237784484290561</td>\n      <td>2022-05-30T11:35:11.000Z</td>\n      <td>69196843</td>\n      <td>en</td>\n      <td>@ring_sec @Buffyinnyc Well ignore all the scie...</td>\n      <td>Twitter for iPhone</td>\n      <td>0</td>\n      <td>0</td>\n      <td>0</td>\n      <td>0</td>\n      <td>PT - get vaccinated! Covid killed 1,000,000 so...</td>\n      <td>pt35mm</td>\n    </tr>\n    <tr>\n      <th>4</th>\n      <td>1531237724065513472</td>\n      <td>2022-05-30T11:34:57.000Z</td>\n      <td>1222239337548435456</td>\n      <td>en</td>\n      <td>[🌕] #mufc feel the appointment of Dominic Jord...</td>\n      <td>Twitter for iPhone</td>\n      <td>0</td>\n      <td>0</td>\n      <td>15</td>\n      <td>0</td>\n      <td>centredevils.</td>\n      <td>centredevils</td>\n    </tr>\n  </tbody>\n</table>\n</div>"
     },
     "execution_count": 19,
     "metadata": {},
     "output_type": "execute_result"
    }
   ],
   "source": [
    "tweets_data.head()"
   ],
   "metadata": {
    "collapsed": false,
    "pycharm": {
     "name": "#%%\n"
    }
   }
  },
  {
   "cell_type": "code",
   "execution_count": 20,
   "outputs": [
    {
     "name": "stdout",
     "output_type": "stream",
     "text": [
      "<class 'pandas.core.frame.DataFrame'>\n",
      "Int64Index: 30 entries, 0 to 29\n",
      "Data columns (total 12 columns):\n",
      " #   Column                        Non-Null Count  Dtype \n",
      "---  ------                        --------------  ----- \n",
      " 0   id                            30 non-null     object\n",
      " 1   created_at                    30 non-null     object\n",
      " 2   author_id                     30 non-null     object\n",
      " 3   lang                          30 non-null     object\n",
      " 4   text                          30 non-null     object\n",
      " 5   source                        30 non-null     object\n",
      " 6   public_metrics.retweet_count  30 non-null     int64 \n",
      " 7   public_metrics.reply_count    30 non-null     int64 \n",
      " 8   public_metrics.like_count     30 non-null     int64 \n",
      " 9   public_metrics.quote_count    30 non-null     int64 \n",
      " 10  name                          30 non-null     object\n",
      " 11  username                      30 non-null     object\n",
      "dtypes: int64(4), object(8)\n",
      "memory usage: 3.0+ KB\n"
     ]
    }
   ],
   "source": [
    "tweets_data.info()"
   ],
   "metadata": {
    "collapsed": false,
    "pycharm": {
     "name": "#%%\n"
    }
   }
  },
  {
   "cell_type": "code",
   "execution_count": 21,
   "outputs": [
    {
     "data": {
      "text/plain": "id                                                            1531238119659515906\ncreated_at                                               2022-05-30T11:36:31.000Z\nauthor_id                                                                 4807561\nlang                                                                           en\ntext                            As data science goes mainstream, so does its l...\nsource                                                            Twitter Web App\npublic_metrics.retweet_count                                                    0\npublic_metrics.reply_count                                                      0\npublic_metrics.like_count                                                       0\npublic_metrics.quote_count                                                      0\nname                                                                 William Toll\nusername                                                                  utollwi\nName: 0, dtype: object"
     },
     "execution_count": 21,
     "metadata": {},
     "output_type": "execute_result"
    }
   ],
   "source": [
    "tweets_data.loc[0]"
   ],
   "metadata": {
    "collapsed": false,
    "pycharm": {
     "name": "#%%\n"
    }
   }
  },
  {
   "cell_type": "code",
   "execution_count": 22,
   "outputs": [],
   "source": [
    "tweets_data.to_csv(\"recent_tweets_data.csv\")"
   ],
   "metadata": {
    "collapsed": false,
    "pycharm": {
     "name": "#%%\n"
    }
   }
  }
 ],
 "metadata": {
  "kernelspec": {
   "display_name": "Python 3",
   "language": "python",
   "name": "python3"
  },
  "language_info": {
   "codemirror_mode": {
    "name": "ipython",
    "version": 2
   },
   "file_extension": ".py",
   "mimetype": "text/x-python",
   "name": "python",
   "nbconvert_exporter": "python",
   "pygments_lexer": "ipython2",
   "version": "2.7.6"
  }
 },
 "nbformat": 4,
 "nbformat_minor": 0
}