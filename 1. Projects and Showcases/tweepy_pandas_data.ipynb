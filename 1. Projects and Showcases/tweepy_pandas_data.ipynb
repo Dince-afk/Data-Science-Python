{
 "cells": [
  {
   "cell_type": "markdown",
   "metadata": {
    "collapsed": false
   },
   "source": [
    "# Get Twitter Data with Tweepy and Help from Pandas"
   ]
  },
  {
   "cell_type": "markdown",
   "metadata": {
    "collapsed": false,
    "pycharm": {
     "name": "#%% md\n"
    }
   },
   "source": [
    "## Libraries"
   ]
  },
  {
   "cell_type": "code",
   "execution_count": 5,
   "metadata": {
    "collapsed": true
   },
   "outputs": [],
   "source": [
    "import requests\n",
    "import tweepy\n",
    "import pandas as pd\n",
    "import json"
   ]
  },
  {
   "cell_type": "markdown",
   "metadata": {
    "collapsed": false
   },
   "source": [
    "## Authentication input"
   ]
  },
  {
   "cell_type": "code",
   "execution_count": 6,
   "metadata": {
    "collapsed": false,
    "pycharm": {
     "name": "#%%\n"
    }
   },
   "outputs": [],
   "source": [
    "BEARER_TOKEN = \"ENTER BEARER TOKEN\""
   ]
  },
  {
   "cell_type": "markdown",
   "metadata": {
    "collapsed": false
   },
   "source": [
    "## Client"
   ]
  },
  {
   "cell_type": "code",
   "execution_count": 7,
   "metadata": {
    "collapsed": false,
    "pycharm": {
     "name": "#%%\n"
    }
   },
   "outputs": [],
   "source": [
    "client = tweepy.Client(\n",
    "    bearer_token=BEARER_TOKEN,\n",
    "    return_type = requests.Response # Needed to use json methods, which makes life much easier\n",
    ")"
   ]
  },
  {
   "cell_type": "markdown",
   "metadata": {
    "collapsed": false
   },
   "source": [
    "## Get data with search_recent_tweets()\n",
    "Available for essential (most basic and free version) access. By default, returns:\n",
    "* only ten tweets (user `max_results` for more)\n",
    "* text and author_id (called id)\n",
    "* and max 7 days back"
   ]
  },
  {
   "cell_type": "code",
   "execution_count": 8,
   "metadata": {
    "collapsed": false,
    "pycharm": {
     "name": "#%%\n"
    }
   },
   "outputs": [
    {
     "data": {
      "text/plain": [
       "<Response [200]>"
      ]
     },
     "execution_count": 8,
     "metadata": {},
     "output_type": "execute_result"
    }
   ],
   "source": [
    "query = \"data science -is:retweet\"\n",
    "response = client.search_recent_tweets(query,\n",
    "                                       max_results=30,\n",
    "                                       tweet_fields=[\"created_at\",\"lang\",\"public_metrics\",\"geo\",\"source\",\"withheld\"],\n",
    "                                       expansions=[\"author_id\",\"geo.place_id\"] # This argument returns additional \"includes\" data compartment in response\n",
    "                                       )\n",
    "response"
   ]
  },
  {
   "cell_type": "markdown",
   "metadata": {
    "collapsed": false
   },
   "source": [
    "## json"
   ]
  },
  {
   "cell_type": "code",
   "execution_count": 9,
   "metadata": {
    "collapsed": false,
    "pycharm": {
     "name": "#%%\n"
    }
   },
   "outputs": [],
   "source": [
    "response = response.json()"
   ]
  },
  {
   "cell_type": "markdown",
   "metadata": {
    "collapsed": false
   },
   "source": [
    "## The split data issue"
   ]
  },
  {
   "cell_type": "markdown",
   "metadata": {
    "collapsed": false
   },
   "source": [
    "The API call returns the tweet data under two keys, \"data\" and \"includes\" (as well as meta data under the \"meta\" key). \"data\" has data on the tweets per se (text, language, date created), while \"includes\" has data on the user (name, username).\n",
    "\n",
    "This means, that if we want to create one single dataframe, we have to create tweet_data and author_data first, and then merge them on their \"author_id\" column secondly."
   ]
  },
  {
   "cell_type": "markdown",
   "metadata": {
    "collapsed": false
   },
   "source": [
    "### Tweet data"
   ]
  },
  {
   "cell_type": "code",
   "execution_count": 10,
   "metadata": {
    "collapsed": false,
    "pycharm": {
     "name": "#%%\n"
    }
   },
   "outputs": [
    {
     "data": {
      "text/html": [
       "<div>\n",
       "<style scoped>\n",
       "    .dataframe tbody tr th:only-of-type {\n",
       "        vertical-align: middle;\n",
       "    }\n",
       "\n",
       "    .dataframe tbody tr th {\n",
       "        vertical-align: top;\n",
       "    }\n",
       "\n",
       "    .dataframe thead th {\n",
       "        text-align: right;\n",
       "    }\n",
       "</style>\n",
       "<table border=\"1\" class=\"dataframe\">\n",
       "  <thead>\n",
       "    <tr style=\"text-align: right;\">\n",
       "      <th></th>\n",
       "      <th>author_id</th>\n",
       "      <th>id</th>\n",
       "      <th>text</th>\n",
       "      <th>lang</th>\n",
       "      <th>created_at</th>\n",
       "      <th>source</th>\n",
       "      <th>public_metrics.retweet_count</th>\n",
       "      <th>public_metrics.reply_count</th>\n",
       "      <th>public_metrics.like_count</th>\n",
       "      <th>public_metrics.quote_count</th>\n",
       "      <th>geo.place_id</th>\n",
       "    </tr>\n",
       "  </thead>\n",
       "  <tbody>\n",
       "    <tr>\n",
       "      <th>0</th>\n",
       "      <td>1441342299628138503</td>\n",
       "      <td>1531702405288665089</td>\n",
       "      <td>Cognitive technologies are bringing tremendous...</td>\n",
       "      <td>en</td>\n",
       "      <td>2022-05-31T18:21:25.000Z</td>\n",
       "      <td>Twitter Web App</td>\n",
       "      <td>0</td>\n",
       "      <td>0</td>\n",
       "      <td>1</td>\n",
       "      <td>0</td>\n",
       "      <td>NaN</td>\n",
       "    </tr>\n",
       "    <tr>\n",
       "      <th>1</th>\n",
       "      <td>1059142262477725696</td>\n",
       "      <td>1531702047136956418</td>\n",
       "      <td>مع اني Data Science لكن مازلت اندهش من اللي يص...</td>\n",
       "      <td>ar</td>\n",
       "      <td>2022-05-31T18:20:00.000Z</td>\n",
       "      <td>Twitter for Android</td>\n",
       "      <td>0</td>\n",
       "      <td>0</td>\n",
       "      <td>0</td>\n",
       "      <td>0</td>\n",
       "      <td>000799c66e428a87</td>\n",
       "    </tr>\n",
       "    <tr>\n",
       "      <th>2</th>\n",
       "      <td>1343235115451887616</td>\n",
       "      <td>1531701964823830528</td>\n",
       "      <td>Never heard a concern from the Ontario Science...</td>\n",
       "      <td>en</td>\n",
       "      <td>2022-05-31T18:19:40.000Z</td>\n",
       "      <td>Twitter for Android</td>\n",
       "      <td>0</td>\n",
       "      <td>0</td>\n",
       "      <td>0</td>\n",
       "      <td>0</td>\n",
       "      <td>NaN</td>\n",
       "    </tr>\n",
       "    <tr>\n",
       "      <th>3</th>\n",
       "      <td>727127737844928512</td>\n",
       "      <td>1531701835270172673</td>\n",
       "      <td>@ColtsGuy505 much appreciated! i am a computer...</td>\n",
       "      <td>en</td>\n",
       "      <td>2022-05-31T18:19:09.000Z</td>\n",
       "      <td>Twitter for iPhone</td>\n",
       "      <td>0</td>\n",
       "      <td>0</td>\n",
       "      <td>0</td>\n",
       "      <td>0</td>\n",
       "      <td>NaN</td>\n",
       "    </tr>\n",
       "    <tr>\n",
       "      <th>4</th>\n",
       "      <td>14847675</td>\n",
       "      <td>1531701753388929032</td>\n",
       "      <td>10 Best Practices For #datascience\\nFor quite ...</td>\n",
       "      <td>en</td>\n",
       "      <td>2022-05-31T18:18:50.000Z</td>\n",
       "      <td>Twitter Web App</td>\n",
       "      <td>2</td>\n",
       "      <td>0</td>\n",
       "      <td>0</td>\n",
       "      <td>0</td>\n",
       "      <td>NaN</td>\n",
       "    </tr>\n",
       "  </tbody>\n",
       "</table>\n",
       "</div>"
      ],
      "text/plain": [
       "             author_id                   id  \\\n",
       "0  1441342299628138503  1531702405288665089   \n",
       "1  1059142262477725696  1531702047136956418   \n",
       "2  1343235115451887616  1531701964823830528   \n",
       "3   727127737844928512  1531701835270172673   \n",
       "4             14847675  1531701753388929032   \n",
       "\n",
       "                                                text lang  \\\n",
       "0  Cognitive technologies are bringing tremendous...   en   \n",
       "1  مع اني Data Science لكن مازلت اندهش من اللي يص...   ar   \n",
       "2  Never heard a concern from the Ontario Science...   en   \n",
       "3  @ColtsGuy505 much appreciated! i am a computer...   en   \n",
       "4  10 Best Practices For #datascience\\nFor quite ...   en   \n",
       "\n",
       "                 created_at               source  \\\n",
       "0  2022-05-31T18:21:25.000Z      Twitter Web App   \n",
       "1  2022-05-31T18:20:00.000Z  Twitter for Android   \n",
       "2  2022-05-31T18:19:40.000Z  Twitter for Android   \n",
       "3  2022-05-31T18:19:09.000Z   Twitter for iPhone   \n",
       "4  2022-05-31T18:18:50.000Z      Twitter Web App   \n",
       "\n",
       "   public_metrics.retweet_count  public_metrics.reply_count  \\\n",
       "0                             0                           0   \n",
       "1                             0                           0   \n",
       "2                             0                           0   \n",
       "3                             0                           0   \n",
       "4                             2                           0   \n",
       "\n",
       "   public_metrics.like_count  public_metrics.quote_count      geo.place_id  \n",
       "0                          1                           0               NaN  \n",
       "1                          0                           0  000799c66e428a87  \n",
       "2                          0                           0               NaN  \n",
       "3                          0                           0               NaN  \n",
       "4                          0                           0               NaN  "
      ]
     },
     "execution_count": 10,
     "metadata": {},
     "output_type": "execute_result"
    }
   ],
   "source": [
    "tweets = pd.json_normalize(response[\"data\"])\n",
    "tweets.head()"
   ]
  },
  {
   "cell_type": "markdown",
   "metadata": {
    "collapsed": false
   },
   "source": [
    "### Author data"
   ]
  },
  {
   "cell_type": "code",
   "execution_count": 11,
   "metadata": {
    "collapsed": false,
    "pycharm": {
     "name": "#%%\n"
    }
   },
   "outputs": [
    {
     "data": {
      "text/html": [
       "<div>\n",
       "<style scoped>\n",
       "    .dataframe tbody tr th:only-of-type {\n",
       "        vertical-align: middle;\n",
       "    }\n",
       "\n",
       "    .dataframe tbody tr th {\n",
       "        vertical-align: top;\n",
       "    }\n",
       "\n",
       "    .dataframe thead th {\n",
       "        text-align: right;\n",
       "    }\n",
       "</style>\n",
       "<table border=\"1\" class=\"dataframe\">\n",
       "  <thead>\n",
       "    <tr style=\"text-align: right;\">\n",
       "      <th></th>\n",
       "      <th>id</th>\n",
       "      <th>name</th>\n",
       "      <th>username</th>\n",
       "    </tr>\n",
       "  </thead>\n",
       "  <tbody>\n",
       "    <tr>\n",
       "      <th>0</th>\n",
       "      <td>1441342299628138503</td>\n",
       "      <td>StrategyOps Institute</td>\n",
       "      <td>StrategyOpsInst</td>\n",
       "    </tr>\n",
       "    <tr>\n",
       "      <th>1</th>\n",
       "      <td>1059142262477725696</td>\n",
       "      <td>Abdullah A. Alsharif</td>\n",
       "      <td>Abdullah_Wex</td>\n",
       "    </tr>\n",
       "    <tr>\n",
       "      <th>2</th>\n",
       "      <td>1343235115451887616</td>\n",
       "      <td>Riccardo</td>\n",
       "      <td>Jack71178929</td>\n",
       "    </tr>\n",
       "    <tr>\n",
       "      <th>3</th>\n",
       "      <td>727127737844928512</td>\n",
       "      <td>pete</td>\n",
       "      <td>kxngjames30</td>\n",
       "    </tr>\n",
       "    <tr>\n",
       "      <th>4</th>\n",
       "      <td>14847675</td>\n",
       "      <td>Yves Mulkers</td>\n",
       "      <td>YvesMulkers</td>\n",
       "    </tr>\n",
       "  </tbody>\n",
       "</table>\n",
       "</div>"
      ],
      "text/plain": [
       "                    id                   name         username\n",
       "0  1441342299628138503  StrategyOps Institute  StrategyOpsInst\n",
       "1  1059142262477725696   Abdullah A. Alsharif     Abdullah_Wex\n",
       "2  1343235115451887616               Riccardo     Jack71178929\n",
       "3   727127737844928512                   pete      kxngjames30\n",
       "4             14847675           Yves Mulkers      YvesMulkers"
      ]
     },
     "execution_count": 11,
     "metadata": {},
     "output_type": "execute_result"
    }
   ],
   "source": [
    "tweet_authors = pd.json_normalize(response[\"includes\"][\"users\"])\n",
    "tweet_authors.head()"
   ]
  },
  {
   "cell_type": "markdown",
   "metadata": {
    "collapsed": false,
    "pycharm": {
     "name": "#%% md\n"
    }
   },
   "source": [
    "## Merge tweet and author data"
   ]
  },
  {
   "cell_type": "code",
   "execution_count": 12,
   "metadata": {
    "collapsed": false,
    "pycharm": {
     "name": "#%%\n"
    }
   },
   "outputs": [],
   "source": [
    "tweets_data = pd.merge(tweets,\n",
    "                       tweet_authors,\n",
    "                       left_on =\"author_id\",\n",
    "                       right_on = \"id\",\n",
    "                       suffixes = (\"\",\"_drop\"), # Used to drop duplicate column\n",
    "                       how=\"inner\") # author id called id in tweets df\n",
    "tweets_data.drop([col for col in tweets_data.columns if 'drop' in col], axis=1, inplace=True) # Drop duplicate author id column from tweet_authors"
   ]
  },
  {
   "cell_type": "markdown",
   "metadata": {
    "collapsed": false
   },
   "source": [
    "And here is the finished dataframe with all the data on tweets we have requested."
   ]
  },
  {
   "cell_type": "markdown",
   "metadata": {
    "collapsed": false
   },
   "source": [
    "## Finished dataframe"
   ]
  },
  {
   "cell_type": "code",
   "execution_count": 13,
   "metadata": {
    "collapsed": false,
    "pycharm": {
     "name": "#%%\n"
    }
   },
   "outputs": [
    {
     "data": {
      "text/html": [
       "<div>\n",
       "<style scoped>\n",
       "    .dataframe tbody tr th:only-of-type {\n",
       "        vertical-align: middle;\n",
       "    }\n",
       "\n",
       "    .dataframe tbody tr th {\n",
       "        vertical-align: top;\n",
       "    }\n",
       "\n",
       "    .dataframe thead th {\n",
       "        text-align: right;\n",
       "    }\n",
       "</style>\n",
       "<table border=\"1\" class=\"dataframe\">\n",
       "  <thead>\n",
       "    <tr style=\"text-align: right;\">\n",
       "      <th></th>\n",
       "      <th>author_id</th>\n",
       "      <th>id</th>\n",
       "      <th>text</th>\n",
       "      <th>lang</th>\n",
       "      <th>created_at</th>\n",
       "      <th>source</th>\n",
       "      <th>public_metrics.retweet_count</th>\n",
       "      <th>public_metrics.reply_count</th>\n",
       "      <th>public_metrics.like_count</th>\n",
       "      <th>public_metrics.quote_count</th>\n",
       "      <th>geo.place_id</th>\n",
       "      <th>name</th>\n",
       "      <th>username</th>\n",
       "    </tr>\n",
       "  </thead>\n",
       "  <tbody>\n",
       "    <tr>\n",
       "      <th>0</th>\n",
       "      <td>1441342299628138503</td>\n",
       "      <td>1531702405288665089</td>\n",
       "      <td>Cognitive technologies are bringing tremendous...</td>\n",
       "      <td>en</td>\n",
       "      <td>2022-05-31T18:21:25.000Z</td>\n",
       "      <td>Twitter Web App</td>\n",
       "      <td>0</td>\n",
       "      <td>0</td>\n",
       "      <td>1</td>\n",
       "      <td>0</td>\n",
       "      <td>NaN</td>\n",
       "      <td>StrategyOps Institute</td>\n",
       "      <td>StrategyOpsInst</td>\n",
       "    </tr>\n",
       "    <tr>\n",
       "      <th>1</th>\n",
       "      <td>1059142262477725696</td>\n",
       "      <td>1531702047136956418</td>\n",
       "      <td>مع اني Data Science لكن مازلت اندهش من اللي يص...</td>\n",
       "      <td>ar</td>\n",
       "      <td>2022-05-31T18:20:00.000Z</td>\n",
       "      <td>Twitter for Android</td>\n",
       "      <td>0</td>\n",
       "      <td>0</td>\n",
       "      <td>0</td>\n",
       "      <td>0</td>\n",
       "      <td>000799c66e428a87</td>\n",
       "      <td>Abdullah A. Alsharif</td>\n",
       "      <td>Abdullah_Wex</td>\n",
       "    </tr>\n",
       "    <tr>\n",
       "      <th>2</th>\n",
       "      <td>1343235115451887616</td>\n",
       "      <td>1531701964823830528</td>\n",
       "      <td>Never heard a concern from the Ontario Science...</td>\n",
       "      <td>en</td>\n",
       "      <td>2022-05-31T18:19:40.000Z</td>\n",
       "      <td>Twitter for Android</td>\n",
       "      <td>0</td>\n",
       "      <td>0</td>\n",
       "      <td>0</td>\n",
       "      <td>0</td>\n",
       "      <td>NaN</td>\n",
       "      <td>Riccardo</td>\n",
       "      <td>Jack71178929</td>\n",
       "    </tr>\n",
       "    <tr>\n",
       "      <th>3</th>\n",
       "      <td>727127737844928512</td>\n",
       "      <td>1531701835270172673</td>\n",
       "      <td>@ColtsGuy505 much appreciated! i am a computer...</td>\n",
       "      <td>en</td>\n",
       "      <td>2022-05-31T18:19:09.000Z</td>\n",
       "      <td>Twitter for iPhone</td>\n",
       "      <td>0</td>\n",
       "      <td>0</td>\n",
       "      <td>0</td>\n",
       "      <td>0</td>\n",
       "      <td>NaN</td>\n",
       "      <td>pete</td>\n",
       "      <td>kxngjames30</td>\n",
       "    </tr>\n",
       "    <tr>\n",
       "      <th>4</th>\n",
       "      <td>14847675</td>\n",
       "      <td>1531701753388929032</td>\n",
       "      <td>10 Best Practices For #datascience\\nFor quite ...</td>\n",
       "      <td>en</td>\n",
       "      <td>2022-05-31T18:18:50.000Z</td>\n",
       "      <td>Twitter Web App</td>\n",
       "      <td>2</td>\n",
       "      <td>0</td>\n",
       "      <td>0</td>\n",
       "      <td>0</td>\n",
       "      <td>NaN</td>\n",
       "      <td>Yves Mulkers</td>\n",
       "      <td>YvesMulkers</td>\n",
       "    </tr>\n",
       "  </tbody>\n",
       "</table>\n",
       "</div>"
      ],
      "text/plain": [
       "             author_id                   id  \\\n",
       "0  1441342299628138503  1531702405288665089   \n",
       "1  1059142262477725696  1531702047136956418   \n",
       "2  1343235115451887616  1531701964823830528   \n",
       "3   727127737844928512  1531701835270172673   \n",
       "4             14847675  1531701753388929032   \n",
       "\n",
       "                                                text lang  \\\n",
       "0  Cognitive technologies are bringing tremendous...   en   \n",
       "1  مع اني Data Science لكن مازلت اندهش من اللي يص...   ar   \n",
       "2  Never heard a concern from the Ontario Science...   en   \n",
       "3  @ColtsGuy505 much appreciated! i am a computer...   en   \n",
       "4  10 Best Practices For #datascience\\nFor quite ...   en   \n",
       "\n",
       "                 created_at               source  \\\n",
       "0  2022-05-31T18:21:25.000Z      Twitter Web App   \n",
       "1  2022-05-31T18:20:00.000Z  Twitter for Android   \n",
       "2  2022-05-31T18:19:40.000Z  Twitter for Android   \n",
       "3  2022-05-31T18:19:09.000Z   Twitter for iPhone   \n",
       "4  2022-05-31T18:18:50.000Z      Twitter Web App   \n",
       "\n",
       "   public_metrics.retweet_count  public_metrics.reply_count  \\\n",
       "0                             0                           0   \n",
       "1                             0                           0   \n",
       "2                             0                           0   \n",
       "3                             0                           0   \n",
       "4                             2                           0   \n",
       "\n",
       "   public_metrics.like_count  public_metrics.quote_count      geo.place_id  \\\n",
       "0                          1                           0               NaN   \n",
       "1                          0                           0  000799c66e428a87   \n",
       "2                          0                           0               NaN   \n",
       "3                          0                           0               NaN   \n",
       "4                          0                           0               NaN   \n",
       "\n",
       "                    name         username  \n",
       "0  StrategyOps Institute  StrategyOpsInst  \n",
       "1   Abdullah A. Alsharif     Abdullah_Wex  \n",
       "2               Riccardo     Jack71178929  \n",
       "3                   pete      kxngjames30  \n",
       "4           Yves Mulkers      YvesMulkers  "
      ]
     },
     "execution_count": 13,
     "metadata": {},
     "output_type": "execute_result"
    }
   ],
   "source": [
    "tweets_data.head()"
   ]
  },
  {
   "cell_type": "code",
   "execution_count": 14,
   "metadata": {
    "collapsed": false,
    "pycharm": {
     "name": "#%%\n"
    }
   },
   "outputs": [
    {
     "name": "stdout",
     "output_type": "stream",
     "text": [
      "<class 'pandas.core.frame.DataFrame'>\n",
      "Int64Index: 30 entries, 0 to 29\n",
      "Data columns (total 13 columns):\n",
      " #   Column                        Non-Null Count  Dtype \n",
      "---  ------                        --------------  ----- \n",
      " 0   author_id                     30 non-null     object\n",
      " 1   id                            30 non-null     object\n",
      " 2   text                          30 non-null     object\n",
      " 3   lang                          30 non-null     object\n",
      " 4   created_at                    30 non-null     object\n",
      " 5   source                        30 non-null     object\n",
      " 6   public_metrics.retweet_count  30 non-null     int64 \n",
      " 7   public_metrics.reply_count    30 non-null     int64 \n",
      " 8   public_metrics.like_count     30 non-null     int64 \n",
      " 9   public_metrics.quote_count    30 non-null     int64 \n",
      " 10  geo.place_id                  1 non-null      object\n",
      " 11  name                          30 non-null     object\n",
      " 12  username                      30 non-null     object\n",
      "dtypes: int64(4), object(9)\n",
      "memory usage: 3.3+ KB\n"
     ]
    }
   ],
   "source": [
    "tweets_data.info()"
   ]
  },
  {
   "cell_type": "code",
   "execution_count": 15,
   "metadata": {
    "collapsed": false,
    "pycharm": {
     "name": "#%%\n"
    }
   },
   "outputs": [
    {
     "data": {
      "text/plain": [
       "author_id                                                     1441342299628138503\n",
       "id                                                            1531702405288665089\n",
       "text                            Cognitive technologies are bringing tremendous...\n",
       "lang                                                                           en\n",
       "created_at                                               2022-05-31T18:21:25.000Z\n",
       "source                                                            Twitter Web App\n",
       "public_metrics.retweet_count                                                    0\n",
       "public_metrics.reply_count                                                      0\n",
       "public_metrics.like_count                                                       1\n",
       "public_metrics.quote_count                                                      0\n",
       "geo.place_id                                                                  NaN\n",
       "name                                                        StrategyOps Institute\n",
       "username                                                          StrategyOpsInst\n",
       "Name: 0, dtype: object"
      ]
     },
     "execution_count": 15,
     "metadata": {},
     "output_type": "execute_result"
    }
   ],
   "source": [
    "tweets_data.loc[0]"
   ]
  },
  {
   "cell_type": "code",
   "execution_count": 16,
   "metadata": {
    "collapsed": false,
    "pycharm": {
     "name": "#%%\n"
    }
   },
   "outputs": [],
   "source": [
    "tweets_data.to_csv(\"recent_tweets_data.csv\")"
   ]
  }
 ],
 "metadata": {
  "interpreter": {
   "hash": "aee8b7b246df8f9039afb4144a1f6fd8d2ca17a180786b69acc140d282b71a49"
  },
  "kernelspec": {
   "display_name": "Python 3.10.1 64-bit",
   "language": "python",
   "name": "python3"
  },
  "language_info": {
   "codemirror_mode": {
    "name": "ipython",
    "version": 3
   },
   "file_extension": ".py",
   "mimetype": "text/x-python",
   "name": "python",
   "nbconvert_exporter": "python",
   "pygments_lexer": "ipython3",
   "version": "3.10.1"
  }
 },
 "nbformat": 4,
 "nbformat_minor": 0
}
