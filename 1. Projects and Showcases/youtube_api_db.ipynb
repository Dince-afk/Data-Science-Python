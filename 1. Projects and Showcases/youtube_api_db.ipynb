{
 "cells": [
  {
   "cell_type": "markdown",
   "metadata": {
    "collapsed": false
   },
   "source": [
    "# YouTube API to AWS Pipeline"
   ]
  },
  {
   "cell_type": "markdown",
   "metadata": {
    "collapsed": false
   },
   "source": [
    "## Libraries"
   ]
  },
  {
   "cell_type": "code",
   "execution_count": 1,
   "metadata": {
    "collapsed": true
   },
   "outputs": [],
   "source": [
    "import requests\n",
    "import pandas as pd\n",
    "import time\n",
    "import mysql.connector"
   ]
  },
  {
   "cell_type": "markdown",
   "metadata": {
    "collapsed": false
   },
   "source": [
    "## Fetch YouTube data functions"
   ]
  },
  {
   "cell_type": "markdown",
   "metadata": {
    "collapsed": false
   },
   "source": [
    "### get_video_metrics()"
   ]
  },
  {
   "cell_type": "code",
   "execution_count": 2,
   "metadata": {
    "collapsed": false,
    "pycharm": {
     "name": "#%%\n"
    }
   },
   "outputs": [],
   "source": [
    "def get_video_metrics(video_id):\n",
    "    url_video_stats = \"https://www.googleapis.com/youtube/v3/videos?id=\" + video_id + \"&part=statistics&key=\" + API_KEY\n",
    "    response_video_stats = requests.get(url_video_stats).json()\n",
    "\n",
    "    view_count = response_video_stats[\"items\"][0][\"statistics\"][\"viewCount\"]\n",
    "    like_count = response_video_stats[\"items\"][0][\"statistics\"][\"likeCount\"]\n",
    "    favorite_count = response_video_stats[\"items\"][0][\"statistics\"][\"favoriteCount\"]\n",
    "    comment_count = response_video_stats[\"items\"][0][\"statistics\"][\"commentCount\"]\n",
    "\n",
    "    return view_count, like_count, favorite_count, comment_count"
   ]
  },
  {
   "cell_type": "markdown",
   "metadata": {
    "collapsed": false
   },
   "source": [
    "### get_videos()"
   ]
  },
  {
   "cell_type": "code",
   "execution_count": 3,
   "metadata": {
    "collapsed": false,
    "pycharm": {
     "name": "#%%\n"
    }
   },
   "outputs": [],
   "source": [
    "def get_videos(df):\n",
    "    # Make API call\n",
    "    pageToken = \"\"\n",
    "    url = \"https://www.googleapis.com/youtube/v3/search?key=\"+API_KEY+\"&channelId=\"+CHANNEL_ID+\"&part=snippet,id&order=date&maxResults=10000\"+pageToken\n",
    "\n",
    "    response = requests.get(url).json()\n",
    "    response = response[\"items\"]\n",
    "    time.sleep(1)\n",
    "\n",
    "    # Work for each single video\n",
    "    for video in response:\n",
    "        if video[\"id\"][\"kind\"] == \"youtube#video\":\n",
    "            videoId = video[\"id\"][\"videoId\"]\n",
    "            title = video[\"snippet\"][\"title\"]\n",
    "            date = video[\"snippet\"][\"publishedAt\"]\n",
    "            date = str(date).split(\"T\")[0]\n",
    "\n",
    "            view_count, like_count, favorite_count, comment_count = get_video_metrics(videoId)\n",
    "\n",
    "            # Save data in dataframe\n",
    "            df = df.append({\"video_id\": videoId, \"video_title\": title, \"upload_date\": date, \"view_count\": view_count, \"like_count\": like_count, \"favorite_count\": favorite_count, \"comment_count\": comment_count}, ignore_index=True)\n",
    "    return df"
   ]
  },
  {
   "cell_type": "markdown",
   "metadata": {
    "collapsed": false
   },
   "source": [
    "## Upload to database functions"
   ]
  },
  {
   "cell_type": "markdown",
   "metadata": {
    "collapsed": false
   },
   "source": [
    "### connect_to_db()"
   ]
  },
  {
   "cell_type": "code",
   "execution_count": 4,
   "metadata": {
    "collapsed": false,
    "pycharm": {
     "name": "#%%\n"
    }
   },
   "outputs": [],
   "source": [
    "def connect_to_db(host, user, password):\n",
    "    mydb = mysql.connector.connect(\n",
    "        host = host,\n",
    "        user = user,\n",
    "        password = password,\n",
    "        database = database\n",
    "    )\n",
    "    print(\"Connection successful.\")\n",
    "    return mydb"
   ]
  },
  {
   "cell_type": "markdown",
   "metadata": {
    "collapsed": false
   },
   "source": [
    "### create_table()"
   ]
  },
  {
   "cell_type": "code",
   "execution_count": 5,
   "metadata": {
    "collapsed": false,
    "pycharm": {
     "name": "#%%\n"
    }
   },
   "outputs": [],
   "source": [
    "def create_table(mycursor):\n",
    "    create_table_command = (\"\"\"\n",
    "    CREATE TABLE IF NOT EXISTS videos (\n",
    "    video_id VARCHAR(255) PRIMARY KEY,\n",
    "    video_title VARCHAR(255) NOT NULL,\n",
    "    upload_date DATE NOT NULL DEFAULT (CURRENT_DATE),\n",
    "    view_count INTEGER NOT NULL,\n",
    "    like_count INTEGER NOT NULL,\n",
    "    favorite_count INTEGER NOT NULL,\n",
    "    comment_count INTEGER NOT NULL)\n",
    "    \"\"\")\n",
    "    print(\"Table is ready.\")\n",
    "    mycursor.execute(create_table_command)"
   ]
  },
  {
   "cell_type": "markdown",
   "metadata": {
    "collapsed": false
   },
   "source": [
    "### check_if_video_exists()"
   ]
  },
  {
   "cell_type": "code",
   "execution_count": 6,
   "metadata": {
    "collapsed": false,
    "pycharm": {
     "name": "#%%\n"
    }
   },
   "outputs": [],
   "source": [
    "def check_if_video_exists(mycursor, video_id):\n",
    "    query = (\"\"\"SELECT video_id FROM videos WHERE video_id = %s\"\"\")\n",
    "    mycursor.execute(query, (video_id,)) # Python and mySQL want the value as a tuple, even if there is only one value\n",
    "    return mycursor.fetchone() is not None"
   ]
  },
  {
   "cell_type": "markdown",
   "metadata": {
    "collapsed": false
   },
   "source": [
    "### update_row()"
   ]
  },
  {
   "cell_type": "code",
   "execution_count": 7,
   "metadata": {
    "collapsed": false,
    "pycharm": {
     "name": "#%%\n"
    }
   },
   "outputs": [],
   "source": [
    "def update_row(mycursor, video_title, upload_date, view_count, like_count, favorite_count, comment_count, video_id):\n",
    "\n",
    "    query = (\"\"\"\n",
    "    UPDATE videos\n",
    "        SET video_title = %s,\n",
    "            upload_date = %s,\n",
    "            view_count = %s,\n",
    "            like_count = %s,\n",
    "            favorite_count = %s,\n",
    "            comment_count = %s\n",
    "        WHERE video_id = %s;\n",
    "    \"\"\")\n",
    "    vars_to_update = (video_title, upload_date, view_count, like_count, favorite_count, comment_count, video_id)\n",
    "    mycursor.execute(query, vars_to_update)"
   ]
  },
  {
   "cell_type": "markdown",
   "metadata": {
    "collapsed": false
   },
   "source": [
    "### insert_row()"
   ]
  },
  {
   "cell_type": "code",
   "execution_count": 8,
   "metadata": {
    "collapsed": false,
    "pycharm": {
     "name": "#%%\n"
    }
   },
   "outputs": [],
   "source": [
    "def insert_row(mycursor, video_id, video_title, upload_date, view_count, like_count, favorite_count, comment_count):\n",
    "    insert_into_videos_query = (\"\"\"INSERT INTO videos (video_id, video_title, upload_date, view_count, like_count, favorite_count, comment_count) VALUES(%s, %s, %s, %s, %s, %s, %s)\"\"\")\n",
    "\n",
    "    row_to_insert = (video_id, video_title, upload_date, view_count, like_count, favorite_count, comment_count)\n",
    "\n",
    "    mycursor.execute(insert_into_videos_query, row_to_insert)"
   ]
  },
  {
   "cell_type": "markdown",
   "metadata": {
    "collapsed": false
   },
   "source": [
    "### append_from_df_to_db()"
   ]
  },
  {
   "cell_type": "code",
   "execution_count": 9,
   "metadata": {
    "collapsed": false,
    "pycharm": {
     "name": "#%%\n"
    }
   },
   "outputs": [],
   "source": [
    "def append_from_df_to_db(mycursor, df):\n",
    "    for i, row in df.iterrows():\n",
    "        insert_row(mycursor, row[\"video_id\"], row[\"video_title\"], row[\"upload_date\"], row[\"view_count\"], row[\"like_count\"], row[\"favorite_count\"], row[\"comment_count\"])\n",
    "    print(\"New rows added to database.\")"
   ]
  },
  {
   "cell_type": "markdown",
   "metadata": {
    "collapsed": false
   },
   "source": [
    "### update_db()"
   ]
  },
  {
   "cell_type": "code",
   "execution_count": 10,
   "metadata": {
    "collapsed": false,
    "pycharm": {
     "name": "#%%\n"
    }
   },
   "outputs": [],
   "source": [
    "def update_db(mycursor, df):\n",
    "    tmp_df = pd.DataFrame(columns=['video_id', 'video_title', 'upload_date', 'view_count', 'like_count','favorite_count', 'comment_count'])\n",
    "\n",
    "    for i, row in df.iterrows():\n",
    "        if check_if_video_exists(mycursor, row[\"video_id\"]):\n",
    "            update_row(mycursor, row[\"video_title\"], row[\"upload_date\"], row[\"view_count\"], row[\"like_count\"], row[\"favorite_count\"], row[\"comment_count\"], row[\"video_id\"])\n",
    "        else:\n",
    "            tmp_df = tmp_df.append(row)\n",
    "    print(\"Existing rows updated. New rows returned as dataframe.\")\n",
    "    return tmp_df"
   ]
  },
  {
   "cell_type": "markdown",
   "metadata": {
    "collapsed": false
   },
   "source": [
    "Disable append warnings."
   ]
  },
  {
   "cell_type": "code",
   "execution_count": 11,
   "metadata": {
    "collapsed": false,
    "pycharm": {
     "name": "#%%\n"
    }
   },
   "outputs": [],
   "source": [
    "import warnings\n",
    "warnings.filterwarnings(\"ignore\")"
   ]
  },
  {
   "cell_type": "markdown",
   "metadata": {
    "collapsed": false,
    "pycharm": {
     "name": "#%% md\n"
    }
   },
   "source": [
    "## Execution"
   ]
  },
  {
   "cell_type": "markdown",
   "metadata": {
    "collapsed": false
   },
   "source": [
    "### Fetch YouTube data"
   ]
  },
  {
   "cell_type": "code",
   "execution_count": 12,
   "metadata": {
    "collapsed": false,
    "pycharm": {
     "name": "#%%\n"
    }
   },
   "outputs": [],
   "source": [
    "API_KEY = \"ENTER\"\n",
    "CHANNEL_ID = \"ENTER\"\n",
    "\n",
    "df = pd.DataFrame(columns=[\"video_id\",\"video_title\",\"upload_date\",\"view_count\",\"like_count\",\"favorite_count\",\"comment_count\"]) # Create empty df for later appending\n",
    "\n",
    "df = get_videos(df) # Function fetching data and returning df"
   ]
  },
  {
   "cell_type": "markdown",
   "metadata": {
    "collapsed": false
   },
   "source": [
    "### Upload to database"
   ]
  },
  {
   "cell_type": "code",
   "execution_count": null,
   "metadata": {
    "collapsed": false,
    "pycharm": {
     "name": "#%%\n"
    }
   },
   "outputs": [],
   "source": [
    "host = \"ENTER\"\n",
    "user = \"ENTER\"\n",
    "password = \"ENTER\"\n",
    "database = \"ENTER\"\n",
    "mydb = connect_to_db(host, user, password) # Connect to database\n",
    "mycursor = mydb.cursor() # Create cursor navigator"
   ]
  },
  {
   "cell_type": "code",
   "execution_count": null,
   "metadata": {
    "collapsed": false,
    "pycharm": {
     "name": "#%%\n"
    }
   },
   "outputs": [],
   "source": [
    "create_table(mycursor) # Create \"videos\" table if not yet existing\n",
    "new_vid_df = update_db(mycursor, df) # Update existing rows and return new rows as df\n",
    "append_from_df_to_db(mycursor, new_vid_df) # Appending new rows to table\n",
    "mydb.commit() # Committing all changes"
   ]
  }
 ],
 "metadata": {
  "kernelspec": {
   "display_name": "Python 3",
   "language": "python",
   "name": "python3"
  },
  "language_info": {
   "codemirror_mode": {
    "name": "ipython",
    "version": 2
   },
   "file_extension": ".py",
   "mimetype": "text/x-python",
   "name": "python",
   "nbconvert_exporter": "python",
   "pygments_lexer": "ipython2",
   "version": "2.7.6"
  }
 },
 "nbformat": 4,
 "nbformat_minor": 0
}
