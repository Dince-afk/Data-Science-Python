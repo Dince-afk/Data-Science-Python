{
 "cells": [
  {
   "cell_type": "markdown",
   "source": [
    "# Get County from Geolocation with OpenStreetMap API"
   ],
   "metadata": {
    "collapsed": false
   }
  },
  {
   "cell_type": "markdown",
   "source": [
    "## Libraries"
   ],
   "metadata": {
    "collapsed": false
   }
  },
  {
   "cell_type": "code",
   "execution_count": 16,
   "metadata": {},
   "outputs": [],
   "source": [
    "import pandas as pd\n",
    "import requests\n",
    "import json\n",
    "from functools import cache\n",
    "from tqdm import tqdm\n",
    "import missingno"
   ]
  },
  {
   "cell_type": "markdown",
   "source": [
    "## Data"
   ],
   "metadata": {
    "collapsed": false
   }
  },
  {
   "cell_type": "code",
   "execution_count": 17,
   "outputs": [
    {
     "data": {
      "text/plain": "   longitude  latitude  housing_median_age  total_rooms  total_bedrooms  \\\n0    -114.31     34.19                15.0       5612.0          1283.0   \n1    -114.47     34.40                19.0       7650.0          1901.0   \n2    -114.56     33.69                17.0        720.0           174.0   \n3    -114.57     33.64                14.0       1501.0           337.0   \n4    -114.57     33.57                20.0       1454.0           326.0   \n\n   population  households  median_income  median_house_value  \n0      1015.0       472.0         1.4936             66900.0  \n1      1129.0       463.0         1.8200             80100.0  \n2       333.0       117.0         1.6509             85700.0  \n3       515.0       226.0         3.1917             73400.0  \n4       624.0       262.0         1.9250             65500.0  ",
      "text/html": "<div>\n<style scoped>\n    .dataframe tbody tr th:only-of-type {\n        vertical-align: middle;\n    }\n\n    .dataframe tbody tr th {\n        vertical-align: top;\n    }\n\n    .dataframe thead th {\n        text-align: right;\n    }\n</style>\n<table border=\"1\" class=\"dataframe\">\n  <thead>\n    <tr style=\"text-align: right;\">\n      <th></th>\n      <th>longitude</th>\n      <th>latitude</th>\n      <th>housing_median_age</th>\n      <th>total_rooms</th>\n      <th>total_bedrooms</th>\n      <th>population</th>\n      <th>households</th>\n      <th>median_income</th>\n      <th>median_house_value</th>\n    </tr>\n  </thead>\n  <tbody>\n    <tr>\n      <th>0</th>\n      <td>-114.31</td>\n      <td>34.19</td>\n      <td>15.0</td>\n      <td>5612.0</td>\n      <td>1283.0</td>\n      <td>1015.0</td>\n      <td>472.0</td>\n      <td>1.4936</td>\n      <td>66900.0</td>\n    </tr>\n    <tr>\n      <th>1</th>\n      <td>-114.47</td>\n      <td>34.40</td>\n      <td>19.0</td>\n      <td>7650.0</td>\n      <td>1901.0</td>\n      <td>1129.0</td>\n      <td>463.0</td>\n      <td>1.8200</td>\n      <td>80100.0</td>\n    </tr>\n    <tr>\n      <th>2</th>\n      <td>-114.56</td>\n      <td>33.69</td>\n      <td>17.0</td>\n      <td>720.0</td>\n      <td>174.0</td>\n      <td>333.0</td>\n      <td>117.0</td>\n      <td>1.6509</td>\n      <td>85700.0</td>\n    </tr>\n    <tr>\n      <th>3</th>\n      <td>-114.57</td>\n      <td>33.64</td>\n      <td>14.0</td>\n      <td>1501.0</td>\n      <td>337.0</td>\n      <td>515.0</td>\n      <td>226.0</td>\n      <td>3.1917</td>\n      <td>73400.0</td>\n    </tr>\n    <tr>\n      <th>4</th>\n      <td>-114.57</td>\n      <td>33.57</td>\n      <td>20.0</td>\n      <td>1454.0</td>\n      <td>326.0</td>\n      <td>624.0</td>\n      <td>262.0</td>\n      <td>1.9250</td>\n      <td>65500.0</td>\n    </tr>\n  </tbody>\n</table>\n</div>"
     },
     "execution_count": 17,
     "metadata": {},
     "output_type": "execute_result"
    }
   ],
   "source": [
    "df = pd.read_csv(\"/Users/dinocuric/Documents/Datasets/california_housing.csv\", sep=\";\")\n",
    "df.head()"
   ],
   "metadata": {
    "collapsed": false,
    "pycharm": {
     "name": "#%%\n"
    }
   }
  },
  {
   "cell_type": "markdown",
   "source": [
    "## Test API call"
   ],
   "metadata": {
    "collapsed": false
   }
  },
  {
   "cell_type": "code",
   "execution_count": 18,
   "outputs": [
    {
     "data": {
      "text/plain": "{'type': 'FeatureCollection',\n 'licence': 'Data © OpenStreetMap contributors, ODbL 1.0. https://osm.org/copyright',\n 'features': [{'type': 'Feature',\n   'properties': {'place_id': 281953796,\n    'osm_type': 'relation',\n    'osm_id': 396509,\n    'place_rank': 12,\n    'category': 'boundary',\n    'type': 'administrative',\n    'importance': 0.5702501726565834,\n    'addresstype': 'county',\n    'name': 'San Bernardino County',\n    'display_name': 'San Bernardino County, California, United States',\n    'address': {'county': 'San Bernardino County',\n     'state': 'California',\n     'ISO3166-2-lvl4': 'US-CA',\n     'country': 'United States',\n     'country_code': 'us'}},\n   'bbox': [-117.8025491, 33.8709844, -114.1307816, 35.8092552],\n   'geometry': {'type': 'Point', 'coordinates': [-116.0833144, 34.8253019]}}]}"
     },
     "execution_count": 18,
     "metadata": {},
     "output_type": "execute_result"
    }
   ],
   "source": [
    "url = \"https://nominatim.openstreetmap.org/reverse?format=geojson&lat=34.19&lon=-114.31\"\n",
    "\n",
    "response = requests.get(url).json()\n",
    "response"
   ],
   "metadata": {
    "collapsed": false,
    "pycharm": {
     "name": "#%%\n"
    }
   }
  },
  {
   "cell_type": "code",
   "execution_count": 19,
   "outputs": [
    {
     "data": {
      "text/plain": "'San Bernardino County'"
     },
     "execution_count": 19,
     "metadata": {},
     "output_type": "execute_result"
    }
   ],
   "source": [
    "response = response[\"features\"][0][\"properties\"]\n",
    "response[\"address\"][\"county\"] # Works fine!"
   ],
   "metadata": {
    "collapsed": false,
    "pycharm": {
     "name": "#%%\n"
    }
   }
  },
  {
   "cell_type": "markdown",
   "source": [
    "## Functions"
   ],
   "metadata": {
    "collapsed": false
   }
  },
  {
   "cell_type": "code",
   "execution_count": 20,
   "outputs": [],
   "source": [
    "@cache # Caching, i.e. using past request results with the same lat and long values, is required by API provider\n",
    "def bar(lat, long):\n",
    "    url = \"https://nominatim.openstreetmap.org/reverse?format=geojson&lat=\" +str(lat)+\"&lon=\"+str(long)\n",
    "    try:\n",
    "        response = requests.get(url).json()\n",
    "        response = response[\"features\"][0][\"properties\"]\n",
    "        county = response[\"address\"][\"county\"]\n",
    "        return county\n",
    "    except:\n",
    "        return None # In case the API call returns an error -> return None\n",
    "\n",
    "def foo(row):\n",
    "    return bar(row[\"latitude\"], row[\"longitude\"])"
   ],
   "metadata": {
    "collapsed": false,
    "pycharm": {
     "name": "#%%\n"
    }
   }
  },
  {
   "cell_type": "markdown",
   "source": [
    "## Execution"
   ],
   "metadata": {
    "collapsed": false
   }
  },
  {
   "cell_type": "code",
   "execution_count": 21,
   "outputs": [
    {
     "name": "stderr",
     "output_type": "stream",
     "text": [
      "100%|██████████| 100/100 [00:42<00:00,  2.38it/s]\n"
     ]
    }
   ],
   "source": [
    "tqdm.pandas() # Provide progress overview\n",
    "df[\"county\"] = df.progress_apply(foo, axis=1)"
   ],
   "metadata": {
    "collapsed": false,
    "pycharm": {
     "name": "#%%\n"
    }
   }
  },
  {
   "cell_type": "code",
   "execution_count": 25,
   "outputs": [
    {
     "data": {
      "text/plain": "0     San Bernardino County\n1     San Bernardino County\n2          Riverside County\n3          Riverside County\n4          Riverside County\n              ...          \n95          Imperial County\n96          Imperial County\n97          Imperial County\n98          Imperial County\n99          Imperial County\nName: county, Length: 100, dtype: object"
     },
     "execution_count": 25,
     "metadata": {},
     "output_type": "execute_result"
    }
   ],
   "source": [
    "df[\"county\"]"
   ],
   "metadata": {
    "collapsed": false,
    "pycharm": {
     "name": "#%%\n"
    }
   }
  },
  {
   "cell_type": "code",
   "execution_count": 24,
   "outputs": [
    {
     "data": {
      "text/plain": "    longitude  latitude  housing_median_age  total_rooms  total_bedrooms  \\\n0     -114.31     34.19                15.0       5612.0          1283.0   \n1     -114.47     34.40                19.0       7650.0          1901.0   \n2     -114.56     33.69                17.0        720.0           174.0   \n3     -114.57     33.64                14.0       1501.0           337.0   \n4     -114.57     33.57                20.0       1454.0           326.0   \n..        ...       ...                 ...          ...             ...   \n95    -115.58     32.81                 5.0        805.0           143.0   \n96    -115.58     32.81                10.0       1088.0           203.0   \n97    -115.58     32.79                14.0       1687.0           507.0   \n98    -115.58     32.78                 5.0       2494.0           414.0   \n99    -115.59     32.85                20.0       1608.0           274.0   \n\n    population  households  median_income  median_house_value  \\\n0       1015.0       472.0         1.4936             66900.0   \n1       1129.0       463.0         1.8200             80100.0   \n2        333.0       117.0         1.6509             85700.0   \n3        515.0       226.0         3.1917             73400.0   \n4        624.0       262.0         1.9250             65500.0   \n..         ...         ...            ...                 ...   \n95       458.0       143.0         4.4750             96300.0   \n96       533.0       201.0         3.6597             87500.0   \n97       762.0       451.0         1.6635             64400.0   \n98      1416.0       421.0         5.7843            110100.0   \n99       862.0       248.0         4.8750             90800.0   \n\n                   county  \n0   San Bernardino County  \n1   San Bernardino County  \n2        Riverside County  \n3        Riverside County  \n4        Riverside County  \n..                    ...  \n95        Imperial County  \n96        Imperial County  \n97        Imperial County  \n98        Imperial County  \n99        Imperial County  \n\n[100 rows x 10 columns]",
      "text/html": "<div>\n<style scoped>\n    .dataframe tbody tr th:only-of-type {\n        vertical-align: middle;\n    }\n\n    .dataframe tbody tr th {\n        vertical-align: top;\n    }\n\n    .dataframe thead th {\n        text-align: right;\n    }\n</style>\n<table border=\"1\" class=\"dataframe\">\n  <thead>\n    <tr style=\"text-align: right;\">\n      <th></th>\n      <th>longitude</th>\n      <th>latitude</th>\n      <th>housing_median_age</th>\n      <th>total_rooms</th>\n      <th>total_bedrooms</th>\n      <th>population</th>\n      <th>households</th>\n      <th>median_income</th>\n      <th>median_house_value</th>\n      <th>county</th>\n    </tr>\n  </thead>\n  <tbody>\n    <tr>\n      <th>0</th>\n      <td>-114.31</td>\n      <td>34.19</td>\n      <td>15.0</td>\n      <td>5612.0</td>\n      <td>1283.0</td>\n      <td>1015.0</td>\n      <td>472.0</td>\n      <td>1.4936</td>\n      <td>66900.0</td>\n      <td>San Bernardino County</td>\n    </tr>\n    <tr>\n      <th>1</th>\n      <td>-114.47</td>\n      <td>34.40</td>\n      <td>19.0</td>\n      <td>7650.0</td>\n      <td>1901.0</td>\n      <td>1129.0</td>\n      <td>463.0</td>\n      <td>1.8200</td>\n      <td>80100.0</td>\n      <td>San Bernardino County</td>\n    </tr>\n    <tr>\n      <th>2</th>\n      <td>-114.56</td>\n      <td>33.69</td>\n      <td>17.0</td>\n      <td>720.0</td>\n      <td>174.0</td>\n      <td>333.0</td>\n      <td>117.0</td>\n      <td>1.6509</td>\n      <td>85700.0</td>\n      <td>Riverside County</td>\n    </tr>\n    <tr>\n      <th>3</th>\n      <td>-114.57</td>\n      <td>33.64</td>\n      <td>14.0</td>\n      <td>1501.0</td>\n      <td>337.0</td>\n      <td>515.0</td>\n      <td>226.0</td>\n      <td>3.1917</td>\n      <td>73400.0</td>\n      <td>Riverside County</td>\n    </tr>\n    <tr>\n      <th>4</th>\n      <td>-114.57</td>\n      <td>33.57</td>\n      <td>20.0</td>\n      <td>1454.0</td>\n      <td>326.0</td>\n      <td>624.0</td>\n      <td>262.0</td>\n      <td>1.9250</td>\n      <td>65500.0</td>\n      <td>Riverside County</td>\n    </tr>\n    <tr>\n      <th>...</th>\n      <td>...</td>\n      <td>...</td>\n      <td>...</td>\n      <td>...</td>\n      <td>...</td>\n      <td>...</td>\n      <td>...</td>\n      <td>...</td>\n      <td>...</td>\n      <td>...</td>\n    </tr>\n    <tr>\n      <th>95</th>\n      <td>-115.58</td>\n      <td>32.81</td>\n      <td>5.0</td>\n      <td>805.0</td>\n      <td>143.0</td>\n      <td>458.0</td>\n      <td>143.0</td>\n      <td>4.4750</td>\n      <td>96300.0</td>\n      <td>Imperial County</td>\n    </tr>\n    <tr>\n      <th>96</th>\n      <td>-115.58</td>\n      <td>32.81</td>\n      <td>10.0</td>\n      <td>1088.0</td>\n      <td>203.0</td>\n      <td>533.0</td>\n      <td>201.0</td>\n      <td>3.6597</td>\n      <td>87500.0</td>\n      <td>Imperial County</td>\n    </tr>\n    <tr>\n      <th>97</th>\n      <td>-115.58</td>\n      <td>32.79</td>\n      <td>14.0</td>\n      <td>1687.0</td>\n      <td>507.0</td>\n      <td>762.0</td>\n      <td>451.0</td>\n      <td>1.6635</td>\n      <td>64400.0</td>\n      <td>Imperial County</td>\n    </tr>\n    <tr>\n      <th>98</th>\n      <td>-115.58</td>\n      <td>32.78</td>\n      <td>5.0</td>\n      <td>2494.0</td>\n      <td>414.0</td>\n      <td>1416.0</td>\n      <td>421.0</td>\n      <td>5.7843</td>\n      <td>110100.0</td>\n      <td>Imperial County</td>\n    </tr>\n    <tr>\n      <th>99</th>\n      <td>-115.59</td>\n      <td>32.85</td>\n      <td>20.0</td>\n      <td>1608.0</td>\n      <td>274.0</td>\n      <td>862.0</td>\n      <td>248.0</td>\n      <td>4.8750</td>\n      <td>90800.0</td>\n      <td>Imperial County</td>\n    </tr>\n  </tbody>\n</table>\n<p>100 rows × 10 columns</p>\n</div>"
     },
     "execution_count": 24,
     "metadata": {},
     "output_type": "execute_result"
    }
   ],
   "source": [
    "df.head()"
   ],
   "metadata": {
    "collapsed": false,
    "pycharm": {
     "name": "#%%\n"
    }
   }
  },
  {
   "cell_type": "markdown",
   "source": [
    "## Check for missing values"
   ],
   "metadata": {
    "collapsed": false
   }
  },
  {
   "cell_type": "code",
   "execution_count": 22,
   "outputs": [
    {
     "data": {
      "text/plain": "<AxesSubplot:>"
     },
     "execution_count": 22,
     "metadata": {},
     "output_type": "execute_result"
    },
    {
     "data": {
      "text/plain": "<Figure size 1800x720 with 2 Axes>",
      "image/png": "[encoded data removed]"
     },
     "metadata": {
      "needs_background": "light"
     },
     "output_type": "display_data"
    }
   ],
   "source": [
    "missingno.matrix(df) # Helpful for larger quantities"
   ],
   "metadata": {
    "collapsed": false,
    "pycharm": {
     "name": "#%%\n"
    }
   }
  }
 ],
 "metadata": {
  "interpreter": {
   "hash": "aee8b7b246df8f9039afb4144a1f6fd8d2ca17a180786b69acc140d282b71a49"
  },
  "kernelspec": {
   "display_name": "Python 3.10.1 64-bit",
   "language": "python",
   "name": "python3"
  },
  "language_info": {
   "codemirror_mode": {
    "name": "ipython",
    "version": 3
   },
   "file_extension": ".py",
   "mimetype": "text/x-python",
   "name": "python",
   "nbconvert_exporter": "python",
   "pygments_lexer": "ipython3",
   "version": "3.10.1"
  },
  "orig_nbformat": 4
 },
 "nbformat": 4,
 "nbformat_minor": 2
}